{
 "cells": [
  {
   "cell_type": "markdown",
   "id": "7a01411d-faf7-41d2-9017-39e87ddec641",
   "metadata": {},
   "source": [
    "# Practical 5: Word Embeddings\n",
    "### Instructor:  Dr. Maryam Movahedifar\n",
    "\n",
    "<div style=\"display: flex; justify-content: space-between; align-items: center;\">\n",
    "  <span style=\"display: flex; align-items: center;\">\n",
    "    <b>Applied Text Mining - University of Bremen - Data Science Center</b>\n",
    "  </span>\n",
    "  <div style=\"display: flex; align-items: center; margin-left: auto;\">\n",
    "    <img src=\"Uni_Logo.png\" alt=\"Uni Logo\" style=\"width: 100px; margin-right: 10px;\">\n",
    "    <img src=\"DSC_Logo.png\" alt=\"DSC Logo\" style=\"width: 150px;\">\n",
    "  </div>\n",
    "</div>"
   ]
  },
  {
   "cell_type": "code",
   "execution_count": 1,
   "id": "d11685dc-bd7c-4c92-9570-ebddc371fe4d",
   "metadata": {},
   "outputs": [],
   "source": [
    "!rm -rf ~/.cache"
   ]
  },
  {
   "cell_type": "markdown",
   "id": "7c3ed94a-9671-4810-a0c5-950cc1398849",
   "metadata": {},
   "source": [
    "# Installation\n",
    "\n",
    "1. **Make sure you have `sklearn`, `matplotlib` and `numpy` installed.**\n"
   ]
  },
  {
   "cell_type": "code",
   "execution_count": 1,
   "id": "5c820baa-e400-466b-9e2f-f705bf30f538",
   "metadata": {},
   "outputs": [
    {
     "name": "stdout",
     "output_type": "stream",
     "text": [
      "Requirement already satisfied: numpy in /opt/conda/lib/python3.11/site-packages (2.2.5)\n",
      "Collecting numpy\n",
      "  Downloading numpy-2.3.1-cp311-cp311-manylinux_2_28_x86_64.whl.metadata (62 kB)\n",
      "\u001b[2K     \u001b[90m━━━━━━━━━━━━━━━━━━━━━━━━━━━━━━━━━━━━━━━━\u001b[0m \u001b[32m62.1/62.1 kB\u001b[0m \u001b[31m3.8 MB/s\u001b[0m eta \u001b[36m0:00:00\u001b[0m\n",
      "\u001b[?25hRequirement already satisfied: matplotlib in /opt/conda/lib/python3.11/site-packages (3.10.3)\n",
      "Collecting scikit-learn\n",
      "  Downloading scikit_learn-1.7.0-cp311-cp311-manylinux_2_17_x86_64.manylinux2014_x86_64.whl.metadata (17 kB)\n",
      "Collecting gensim\n",
      "  Downloading gensim-4.3.3-cp311-cp311-manylinux_2_17_x86_64.manylinux2014_x86_64.whl.metadata (8.1 kB)\n",
      "Requirement already satisfied: contourpy>=1.0.1 in /opt/conda/lib/python3.11/site-packages (from matplotlib) (1.3.2)\n",
      "Requirement already satisfied: cycler>=0.10 in /opt/conda/lib/python3.11/site-packages (from matplotlib) (0.12.1)\n",
      "Requirement already satisfied: fonttools>=4.22.0 in /opt/conda/lib/python3.11/site-packages (from matplotlib) (4.58.0)\n",
      "Requirement already satisfied: kiwisolver>=1.3.1 in /opt/conda/lib/python3.11/site-packages (from matplotlib) (1.4.8)\n",
      "Requirement already satisfied: packaging>=20.0 in /opt/conda/lib/python3.11/site-packages (from matplotlib) (24.0)\n",
      "Requirement already satisfied: pillow>=8 in /opt/conda/lib/python3.11/site-packages (from matplotlib) (11.2.1)\n",
      "Requirement already satisfied: pyparsing>=2.3.1 in /opt/conda/lib/python3.11/site-packages (from matplotlib) (3.2.3)\n",
      "Requirement already satisfied: python-dateutil>=2.7 in /opt/conda/lib/python3.11/site-packages (from matplotlib) (2.9.0)\n",
      "Requirement already satisfied: scipy>=1.8.0 in /opt/conda/lib/python3.11/site-packages (from scikit-learn) (1.15.3)\n",
      "Collecting joblib>=1.2.0 (from scikit-learn)\n",
      "  Downloading joblib-1.5.1-py3-none-any.whl.metadata (5.6 kB)\n",
      "Collecting threadpoolctl>=3.1.0 (from scikit-learn)\n",
      "  Downloading threadpoolctl-3.6.0-py3-none-any.whl.metadata (13 kB)\n",
      "Collecting numpy\n",
      "  Downloading numpy-1.26.4-cp311-cp311-manylinux_2_17_x86_64.manylinux2014_x86_64.whl.metadata (61 kB)\n",
      "\u001b[2K     \u001b[90m━━━━━━━━━━━━━━━━━━━━━━━━━━━━━━━━━━━━━━━━\u001b[0m \u001b[32m61.0/61.0 kB\u001b[0m \u001b[31m19.3 MB/s\u001b[0m eta \u001b[36m0:00:00\u001b[0m\n",
      "\u001b[?25hCollecting scipy>=1.8.0 (from scikit-learn)\n",
      "  Downloading scipy-1.13.1-cp311-cp311-manylinux_2_17_x86_64.manylinux2014_x86_64.whl.metadata (60 kB)\n",
      "\u001b[2K     \u001b[90m━━━━━━━━━━━━━━━━━━━━━━━━━━━━━━━━━━━━━━━━\u001b[0m \u001b[32m60.6/60.6 kB\u001b[0m \u001b[31m56.4 MB/s\u001b[0m eta \u001b[36m0:00:00\u001b[0m\n",
      "\u001b[?25hCollecting smart-open>=1.8.1 (from gensim)\n",
      "  Downloading smart_open-7.3.0.post1-py3-none-any.whl.metadata (24 kB)\n",
      "Requirement already satisfied: six>=1.5 in /opt/conda/lib/python3.11/site-packages (from python-dateutil>=2.7->matplotlib) (1.16.0)\n",
      "Collecting wrapt (from smart-open>=1.8.1->gensim)\n",
      "  Downloading wrapt-1.17.2-cp311-cp311-manylinux_2_5_x86_64.manylinux1_x86_64.manylinux_2_17_x86_64.manylinux2014_x86_64.whl.metadata (6.4 kB)\n",
      "Downloading scikit_learn-1.7.0-cp311-cp311-manylinux_2_17_x86_64.manylinux2014_x86_64.whl (12.9 MB)\n",
      "\u001b[2K   \u001b[90m━━━━━━━━━━━━━━━━━━━━━━━━━━━━━━━━━━━━━━━━\u001b[0m \u001b[32m12.9/12.9 MB\u001b[0m \u001b[31m137.2 MB/s\u001b[0m eta \u001b[36m0:00:00\u001b[0m \u001b[36m0:00:01\u001b[0m\n",
      "\u001b[?25hDownloading gensim-4.3.3-cp311-cp311-manylinux_2_17_x86_64.manylinux2014_x86_64.whl (26.7 MB)\n",
      "\u001b[2K   \u001b[90m━━━━━━━━━━━━━━━━━━━━━━━━━━━━━━━━━━━━━━━━\u001b[0m \u001b[32m26.7/26.7 MB\u001b[0m \u001b[31m194.2 MB/s\u001b[0m eta \u001b[36m0:00:00\u001b[0ma \u001b[36m0:00:01\u001b[0m\n",
      "\u001b[?25hDownloading numpy-1.26.4-cp311-cp311-manylinux_2_17_x86_64.manylinux2014_x86_64.whl (18.3 MB)\n",
      "\u001b[2K   \u001b[90m━━━━━━━━━━━━━━━━━━━━━━━━━━━━━━━━━━━━━━━━\u001b[0m \u001b[32m18.3/18.3 MB\u001b[0m \u001b[31m220.6 MB/s\u001b[0m eta \u001b[36m0:00:00\u001b[0ma \u001b[36m0:00:01\u001b[0m\n",
      "\u001b[?25hDownloading joblib-1.5.1-py3-none-any.whl (307 kB)\n",
      "\u001b[2K   \u001b[90m━━━━━━━━━━━━━━━━━━━━━━━━━━━━━━━━━━━━━━━\u001b[0m \u001b[32m307.7/307.7 kB\u001b[0m \u001b[31m378.6 MB/s\u001b[0m eta \u001b[36m0:00:00\u001b[0m\n",
      "\u001b[?25hDownloading scipy-1.13.1-cp311-cp311-manylinux_2_17_x86_64.manylinux2014_x86_64.whl (38.6 MB)\n",
      "\u001b[2K   \u001b[90m━━━━━━━━━━━━━━━━━━━━━━━━━━━━━━━━━━━━━━━━\u001b[0m \u001b[32m38.6/38.6 MB\u001b[0m \u001b[31m222.9 MB/s\u001b[0m eta \u001b[36m0:00:00\u001b[0m00:01\u001b[0m00:01\u001b[0m\n",
      "\u001b[?25hDownloading smart_open-7.3.0.post1-py3-none-any.whl (61 kB)\n",
      "\u001b[2K   \u001b[90m━━━━━━━━━━━━━━━━━━━━━━━━━━━━━━━━━━━━━━━━\u001b[0m \u001b[32m61.9/61.9 kB\u001b[0m \u001b[31m311.1 MB/s\u001b[0m eta \u001b[36m0:00:00\u001b[0m\n",
      "\u001b[?25hDownloading threadpoolctl-3.6.0-py3-none-any.whl (18 kB)\n",
      "Downloading wrapt-1.17.2-cp311-cp311-manylinux_2_5_x86_64.manylinux1_x86_64.manylinux_2_17_x86_64.manylinux2014_x86_64.whl (83 kB)\n",
      "\u001b[2K   \u001b[90m━━━━━━━━━━━━━━━━━━━━━━━━━━━━━━━━━━━━━━━━\u001b[0m \u001b[32m83.2/83.2 kB\u001b[0m \u001b[31m327.7 MB/s\u001b[0m eta \u001b[36m0:00:00\u001b[0m\n",
      "\u001b[?25hInstalling collected packages: wrapt, threadpoolctl, numpy, joblib, smart-open, scipy, scikit-learn, gensim\n",
      "  Attempting uninstall: numpy\n",
      "    Found existing installation: numpy 2.2.5\n",
      "    Uninstalling numpy-2.2.5:\n",
      "      Successfully uninstalled numpy-2.2.5\n",
      "  Attempting uninstall: scipy\n",
      "    Found existing installation: scipy 1.15.3\n",
      "    Uninstalling scipy-1.15.3:\n",
      "      Successfully uninstalled scipy-1.15.3\n",
      "Successfully installed gensim-4.3.3 joblib-1.5.1 numpy-1.26.4 scikit-learn-1.7.0 scipy-1.13.1 smart-open-7.3.0.post1 threadpoolctl-3.6.0 wrapt-1.17.2\n"
     ]
    }
   ],
   "source": [
    "!pip install --upgrade numpy matplotlib scikit-learn gensim"
   ]
  },
  {
   "cell_type": "code",
   "execution_count": 2,
   "id": "cc298e3e-13df-417e-bc81-824e578e6c73",
   "metadata": {},
   "outputs": [],
   "source": [
    "%matplotlib inline\n",
    "\n",
    "import numpy as np\n",
    "import matplotlib.pyplot as plt\n",
    "\n",
    "from sklearn.decomposition import PCA\n",
    "from numpy import linalg as LA\n",
    "\n",
    "import gensim.downloader as api\n",
    "from gensim.test.utils import datapath\n"
   ]
  },
  {
   "cell_type": "markdown",
   "id": "60056b75-7a7d-456f-ad02-20c894b7b2b6",
   "metadata": {},
   "source": [
    "# Using the `gensim` Library\n",
    "\n",
    "In this practical session, we're going to use the **gensim** library. This library offers a variety of methods to read in pre-trained word embeddings as well as train your own.\n",
    "\n",
    "The website contains a lot of documentation. For example, you can check out this link:  \n",
    "[https://radimrehurek.com/gensim/auto_examples/index.html#documentation](https://radimrehurek.com/gensim/auto_examples/index.html#documentation)\n",
    "\n"
   ]
  },
  {
   "cell_type": "markdown",
   "id": "5007403c-e40d-4457-a80e-bf5144812e99",
   "metadata": {},
   "source": [
    "# Reading in a Pre-trained Model\n",
    "\n",
    "First, we load in a pre-trained **GloVe** model.  \n",
    "**Note:** this can take around five minutes.\n",
    "\n",
    "See [https://github.com/RaRe-Technologies/gensim-data](https://github.com/RaRe-Technologies/gensim-data) for an overview of the models you can try. For example:\n",
    "\n",
    "- `word2vec-google-news-300`: Word2Vec trained on Google News (1662 MB)\n",
    "- `glove-twitter-200`: GloVe trained on Twitter data (758 MB)\n",
    "\n",
    "We're going to start with:\n",
    "\n",
    "- `glove-wiki-gigaword-300` (376.1 MB)  \n",
    "  These embeddings are trained on Wikipedia (2014) and the Gigaword corpus, a large collection of newswire text.\n"
   ]
  },
  {
   "cell_type": "code",
   "execution_count": 3,
   "id": "1fc054f6-969c-490a-af69-08685da8e179",
   "metadata": {},
   "outputs": [],
   "source": [
    "wv = api.load('glove-wiki-gigaword-300')"
   ]
  },
  {
   "cell_type": "markdown",
   "id": "6948a95b-7c94-4261-89f8-5321efbf2a77",
   "metadata": {},
   "source": [
    "# Exploring the Vocabulary\n",
    "\n",
    "How many words does the vocabulary contain?\n"
   ]
  },
  {
   "cell_type": "code",
   "execution_count": 4,
   "id": "516c8bf8-319e-4947-b40f-ad98d7624990",
   "metadata": {},
   "outputs": [
    {
     "data": {
      "text/plain": [
       "400000"
      ]
     },
     "execution_count": 4,
     "metadata": {},
     "output_type": "execute_result"
    }
   ],
   "source": [
    "len(wv)"
   ]
  },
  {
   "cell_type": "markdown",
   "id": "bc0ce8c3-bc23-475c-9576-6f1a8da10f75",
   "metadata": {},
   "source": [
    "Is `'bremen'` in the vocabulary?\n"
   ]
  },
  {
   "cell_type": "code",
   "execution_count": 5,
   "id": "fde77015-3c96-4506-8937-0b38d0cffa2b",
   "metadata": {},
   "outputs": [
    {
     "data": {
      "text/plain": [
       "True"
      ]
     },
     "execution_count": 5,
     "metadata": {},
     "output_type": "execute_result"
    }
   ],
   "source": [
    "'bremen' in wv"
   ]
  },
  {
   "cell_type": "markdown",
   "id": "f1d0eec2-8701-4863-bbf0-bd1f46cc4dfc",
   "metadata": {},
   "source": [
    "Print a word embedding."
   ]
  },
  {
   "cell_type": "code",
   "execution_count": 6,
   "id": "bfea0238-699f-467c-9e1a-b3c154de5fd2",
   "metadata": {},
   "outputs": [
    {
     "data": {
      "text/plain": [
       "array([ 0.22526  ,  0.43879  , -0.36044  ,  0.50857  ,  1.1895   ,\n",
       "       -0.47383  , -0.4365   , -0.67327  ,  0.73142  , -0.099612 ,\n",
       "       -0.27479  ,  0.3085   , -0.26265  , -0.24295  ,  0.5761   ,\n",
       "        0.57053  , -0.35053  ,  0.22753  ,  0.41131  , -0.036253 ,\n",
       "        0.66832  ,  0.14124  , -0.39362  , -0.15254  , -0.36964  ,\n",
       "       -0.11615  , -0.095743 ,  0.76582  , -0.392    ,  0.15877  ,\n",
       "        0.23427  , -0.11292  , -0.14845  ,  0.28933  , -0.51626  ,\n",
       "       -0.84905  ,  0.49341  ,  0.079582 , -0.028299 ,  0.26135  ,\n",
       "       -0.22216  , -0.42376  , -1.2625   , -0.71171  , -0.35453  ,\n",
       "       -0.08217  ,  0.47379  ,  0.3912   ,  0.29368  , -0.19623  ,\n",
       "        0.17192  ,  0.13207  , -0.4069   , -0.14299  ,  0.23173  ,\n",
       "        0.1209   , -0.28619  , -0.56747  , -0.30584  ,  0.58731  ,\n",
       "       -0.55136  , -0.32079  , -0.095754 , -0.24142  ,  0.093503 ,\n",
       "       -0.032664 ,  0.088266 , -0.45845  , -0.11977  , -0.87934  ,\n",
       "       -0.078749 ,  0.78534  ,  0.071001 ,  0.15955  , -0.4901   ,\n",
       "       -0.015808 , -0.42538  ,  0.6218   , -0.37392  , -0.0061261,\n",
       "        0.08188  ,  0.66601  , -0.18662  ,  0.064982 , -0.25074  ,\n",
       "        0.60001  , -0.48618  ,  0.40454  ,  0.11624  ,  0.28171  ,\n",
       "        0.30429  , -0.21392  ,  0.4512   , -0.87715  , -0.06343  ,\n",
       "        0.031764 ,  0.16688  ,  0.56263  , -0.10182  , -0.067443 ,\n",
       "       -0.42168  , -0.30312  ,  0.39989  , -0.39218  ,  0.10445  ,\n",
       "       -0.35321  ,  0.39143  , -0.0019161, -0.22576  ,  0.46738  ,\n",
       "        0.4992   , -0.070753 , -0.14582  , -0.22491  , -0.24731  ,\n",
       "        0.1821   , -0.48298  ,  0.15924  ,  0.36172  ,  0.040559 ,\n",
       "       -0.2107   , -0.275    ,  0.9956   ,  0.40572  ,  0.035424 ,\n",
       "        0.095525 , -0.24909  , -0.49376  , -0.3901   ,  0.14896  ,\n",
       "        0.34858  ,  0.53836  , -0.5964   ,  0.52087  , -0.10588  ,\n",
       "       -0.28097  ,  0.33003  , -0.057186 , -0.084591 ,  0.17129  ,\n",
       "        0.11568  ,  0.062952 ,  0.21245  , -0.2707   ,  0.70873  ,\n",
       "        0.94142  , -0.016878 ,  0.1052   , -0.44558  ,  0.041047 ,\n",
       "        0.011303 ,  0.1331   ,  0.16032  , -0.11049  ,  0.079258 ,\n",
       "        0.89359  ,  0.30666  , -0.39109  , -0.35342  ,  0.35945  ,\n",
       "       -0.0050702, -0.061621 ,  0.24515  , -0.57911  ,  0.29852  ,\n",
       "        0.19136  ,  0.58645  , -0.62272  ,  0.56947  , -0.061661 ,\n",
       "        0.15696  , -0.68424  , -0.41801  , -0.081603 ,  0.48348  ,\n",
       "       -0.12058  ,  0.46678  ,  0.26274  ,  0.0025052,  0.94692  ,\n",
       "        0.26124  ,  0.085942 , -0.83092  , -0.65956  ,  0.47163  ,\n",
       "        0.012313 , -0.83716  , -0.36749  ,  0.57754  ,  0.17746  ,\n",
       "        0.12566  , -0.085005 ,  0.034362 ,  0.2569   ,  0.16457  ,\n",
       "       -0.11307  , -0.27002  , -0.49347  , -0.34287  ,  0.28402  ,\n",
       "        0.57792  , -0.14389  , -0.13455  , -0.59051  , -0.1189   ,\n",
       "       -1.2794   ,  0.036593 , -0.45598  , -0.58268  ,  0.034894 ,\n",
       "       -0.17615  , -0.007303 , -0.52767  , -0.10986  ,  0.20272  ,\n",
       "       -0.038567 ,  0.12016  ,  0.46693  , -0.88641  , -0.37798  ,\n",
       "        0.26959  , -0.49073  ,  0.04989  ,  0.35725  , -0.85089  ,\n",
       "       -0.094032 ,  0.047829 , -1.0477   ,  0.027935 ,  0.05842  ,\n",
       "       -0.40369  ,  0.54261  ,  0.96349  ,  0.0089743,  0.42196  ,\n",
       "       -0.20431  , -0.10447  ,  0.24232  ,  0.19164  ,  0.52376  ,\n",
       "       -0.21517  , -0.5462   , -0.24218  ,  0.049104 ,  0.35552  ,\n",
       "        0.87659  ,  0.48834  ,  0.90783  ,  0.060131 , -0.15595  ,\n",
       "       -0.29257  ,  0.0096559,  0.20742  ,  0.69767  , -0.14198  ,\n",
       "        0.045843 ,  0.33252  , -0.90428  , -0.12376  ,  0.41046  ,\n",
       "       -0.14977  ,  0.21895  ,  0.45372  ,  0.38178  , -0.25503  ,\n",
       "        0.33104  , -0.37355  , -0.54882  ,  0.37023  , -0.3059   ,\n",
       "        0.76358  ,  0.29846  , -0.36981  ,  0.39099  ,  0.20005  ,\n",
       "       -0.16363  ,  0.056834 , -0.4424   , -0.25852  ,  0.62705  ,\n",
       "       -0.99437  ,  0.60539  , -0.71551  ,  0.077816 ,  0.15008  ,\n",
       "       -0.08974  , -0.22994  ,  0.1931   ,  0.29954  , -0.20674  ,\n",
       "       -0.086557 , -0.20419  ,  0.24908  , -0.66591  ,  0.32684  ,\n",
       "       -0.17528  ,  0.2413   , -0.58363  ,  0.33629  ,  0.14946  ],\n",
       "      dtype=float32)"
      ]
     },
     "execution_count": 6,
     "metadata": {},
     "output_type": "execute_result"
    }
   ],
   "source": [
    "wv[\"bremen\"]"
   ]
  },
  {
   "cell_type": "markdown",
   "id": "6b7bca84-cf9d-424a-999f-fe175ad5d2a9",
   "metadata": {},
   "source": [
    "How many dimensions does this embedding have?"
   ]
  },
  {
   "cell_type": "code",
   "execution_count": 7,
   "id": "bc528125-e7a4-4717-b682-932a95eb75a4",
   "metadata": {},
   "outputs": [
    {
     "data": {
      "text/plain": [
       "(300,)"
      ]
     },
     "execution_count": 7,
     "metadata": {},
     "output_type": "execute_result"
    }
   ],
   "source": [
    "wv[\"bremen\"].shape"
   ]
  },
  {
   "cell_type": "markdown",
   "id": "cf39c734-d01b-48f3-ba58-3b3f01e0c900",
   "metadata": {},
   "source": [
    "**Question:** Explore the embeddings for a few other words.  \n",
    "Can you find words that are *not* in the vocabulary?\n",
    "\n",
    "*(For example, think of uncommon words, misspellings, new words, etc.)*\n"
   ]
  },
  {
   "cell_type": "markdown",
   "id": "569a8359-7ed8-4072-acff-bcfd7b1da028",
   "metadata": {},
   "source": [
    "# Vector Arithmetic\n",
    "\n",
    "We can calculate the [**cosine similarity**](https://en.wikipedia.org/wiki/Cosine_similarity) between two words in this way:\n"
   ]
  },
  {
   "cell_type": "code",
   "execution_count": 8,
   "id": "f6b3b3a4-ff46-4622-b0c1-fb63b424bce0",
   "metadata": {},
   "outputs": [
    {
     "data": {
      "text/plain": [
       "0.5970513"
      ]
     },
     "execution_count": 8,
     "metadata": {},
     "output_type": "execute_result"
    }
   ],
   "source": [
    "wv.similarity('university', 'student')"
   ]
  },
  {
   "cell_type": "markdown",
   "id": "6af48962-c55b-4adf-98b4-1d2a27e1c5cd",
   "metadata": {},
   "source": [
    "Optional: cosine similarity is the same as the dot product between the normalized word embeddings"
   ]
  },
  {
   "cell_type": "code",
   "execution_count": 9,
   "id": "87693230-4cf8-44cb-a66c-b65144cd1c7d",
   "metadata": {},
   "outputs": [
    {
     "data": {
      "text/plain": [
       "0.5970514"
      ]
     },
     "execution_count": 9,
     "metadata": {},
     "output_type": "execute_result"
    }
   ],
   "source": [
    "wv_university_norm = wv['university']/ LA.norm(wv['university'], 2)\n",
    "wv_student_norm = wv['student'] / LA.norm(wv['student'], 2)\n",
    "\n",
    "wv_university_norm.dot(wv_student_norm)"
   ]
  },
  {
   "cell_type": "markdown",
   "id": "4eceebc0-c322-4669-ab45-1690f0a3fec4",
   "metadata": {},
   "source": [
    "A normalized embedding has a L2 norm (length) of 1"
   ]
  },
  {
   "cell_type": "code",
   "execution_count": 10,
   "id": "88ab61ed-01b7-4163-856b-5bae83e6dd7a",
   "metadata": {},
   "outputs": [
    {
     "data": {
      "text/plain": [
       "1.0"
      ]
     },
     "execution_count": 10,
     "metadata": {},
     "output_type": "execute_result"
    }
   ],
   "source": [
    "LA.norm(wv_student_norm)"
   ]
  },
  {
   "cell_type": "markdown",
   "id": "f96624c1-41ef-4fb8-a385-04585d35bc1c",
   "metadata": {},
   "source": [
    "# Similarity Analysis\n",
    "\n",
    "Print the top 5 most similar words to **car**\n"
   ]
  },
  {
   "cell_type": "code",
   "execution_count": 11,
   "id": "156d4507-ab2e-4573-8c64-ac157f036177",
   "metadata": {},
   "outputs": [
    {
     "name": "stdout",
     "output_type": "stream",
     "text": [
      "[('cars', 0.7827162146568298), ('vehicle', 0.7655367851257324), ('truck', 0.7350621819496155), ('driver', 0.7114784717559814), ('driving', 0.6442225575447083)]\n"
     ]
    }
   ],
   "source": [
    "print(wv.most_similar(positive=['car'], topn=5))"
   ]
  },
  {
   "cell_type": "markdown",
   "id": "990b6960-272e-4327-bc19-b9175bc09d51",
   "metadata": {},
   "source": [
    "**Question:** What are the top 5 most similar words to **cat**? And to **king**? And to **fast**?  \n",
    "What kind of words often appear in the top?\n",
    "\n",
    "**Question:** Try out a few words that have changed in meaning in the last few years.\n",
    "\n",
    "Now calculate the similarities between two words.\n"
   ]
  },
  {
   "cell_type": "code",
   "execution_count": 12,
   "id": "49771ebc-eaa7-40ec-9c21-3c3b8148756d",
   "metadata": {},
   "outputs": [
    {
     "data": {
      "text/plain": [
       "0.77922326"
      ]
     },
     "execution_count": 12,
     "metadata": {},
     "output_type": "execute_result"
    }
   ],
   "source": [
    "wv.similarity('buy', 'purchase')"
   ]
  },
  {
   "cell_type": "code",
   "execution_count": 13,
   "id": "36ad2b8b-97ac-43c0-9afe-8d49486ec64e",
   "metadata": {},
   "outputs": [
    {
     "data": {
      "text/plain": [
       "0.68167466"
      ]
     },
     "execution_count": 13,
     "metadata": {},
     "output_type": "execute_result"
    }
   ],
   "source": [
    "wv.similarity('cat', 'dog')"
   ]
  },
  {
   "cell_type": "code",
   "execution_count": 14,
   "id": "773214db-0604-46a7-9bad-084e9be0b40c",
   "metadata": {},
   "outputs": [
    {
     "data": {
      "text/plain": [
       "0.25130013"
      ]
     },
     "execution_count": 14,
     "metadata": {},
     "output_type": "execute_result"
    }
   ],
   "source": [
    "wv.similarity('car', 'green')"
   ]
  },
  {
   "cell_type": "markdown",
   "id": "87fb6b34-18b9-4b74-9ccf-d6f219b40a34",
   "metadata": {},
   "source": [
    "We can calculate the cosine similarity between a list of word pairs and correlate these with human ratings. One such dataset with human ratings is called **WordSim353**.\n",
    "\n",
    "Go to [wordsim353.tsv on GitHub](https://github.com/RaRe-Technologies/gensim/blob/develop/gensim/test/test_data/wordsim353.tsv) to get a sense of the data.\n",
    "\n",
    "Gensim already implements a method to evaluate a word embedding model using this data:\n",
    "- It calculates the cosine similarity between each word pair.\n",
    "- It calculates both the Spearman and Pearson correlation coefficients between the cosine similarities and human judgments.\n",
    "\n",
    "See [Gensim KeyedVectors documentation](https://radimrehurek.com/gensim/models/keyedvectors.html) for a description of the methods.\n"
   ]
  },
  {
   "cell_type": "code",
   "execution_count": 15,
   "id": "14d54d5a-06b4-4764-8cb2-f2da87f46edf",
   "metadata": {},
   "outputs": [
    {
     "data": {
      "text/plain": [
       "(PearsonRResult(statistic=0.6040760954600908, pvalue=1.7523026085778287e-36),\n",
       " SignificanceResult(statistic=0.6085349998820805, pvalue=3.879629536780527e-37),\n",
       " 0.0)"
      ]
     },
     "execution_count": 15,
     "metadata": {},
     "output_type": "execute_result"
    }
   ],
   "source": [
    "wv.evaluate_word_pairs(datapath('wordsim353.tsv'))"
   ]
  },
  {
   "cell_type": "markdown",
   "id": "800b71ea-502a-43d4-b261-f791ecd3be3e",
   "metadata": {},
   "source": [
    "# Analogies\n",
    "\n",
    "**Man is to woman as king is to...?**\n",
    "\n",
    "This can be converted into vector arithmetic:\n",
    "\n",
    "king - ? = man - woman\n",
    "\n",
    "king - man + woman = ?\n"
   ]
  },
  {
   "cell_type": "code",
   "execution_count": 16,
   "id": "2633ae94-2a24-4b0c-8115-01b8934a9430",
   "metadata": {},
   "outputs": [
    {
     "data": {
      "text/plain": [
       "[('queen', 0.6713277101516724),\n",
       " ('princess', 0.5432624816894531),\n",
       " ('throne', 0.5386103987693787),\n",
       " ('monarch', 0.5347574949264526),\n",
       " ('daughter', 0.49802514910697937),\n",
       " ('mother', 0.49564430117607117),\n",
       " ('elizabeth', 0.4832652509212494),\n",
       " ('kingdom', 0.47747090458869934),\n",
       " ('prince', 0.4668239951133728),\n",
       " ('wife', 0.46473270654678345)]"
      ]
     },
     "execution_count": 16,
     "metadata": {},
     "output_type": "execute_result"
    }
   ],
   "source": [
    " wv.most_similar(negative=['man'], positive=['king', 'woman'])"
   ]
  },
  {
   "cell_type": "markdown",
   "id": "e7a19697-0cfe-4031-a1e9-81109b80bd05",
   "metadata": {},
   "source": [
    "france - paris + amsterdam = ?"
   ]
  },
  {
   "cell_type": "code",
   "execution_count": 17,
   "id": "4fe49d62-77d1-4905-865b-93877c3a67ff",
   "metadata": {},
   "outputs": [
    {
     "data": {
      "text/plain": [
       "[('netherlands', 0.7304360866546631),\n",
       " ('dutch', 0.5829049944877625),\n",
       " ('belgium', 0.5607961416244507),\n",
       " ('holland', 0.5492807626724243),\n",
       " ('denmark', 0.5330449938774109),\n",
       " ('sweden', 0.4875030517578125),\n",
       " ('germany', 0.4710354804992676),\n",
       " ('utrecht', 0.46798408031463623),\n",
       " ('spain', 0.46100151538848877),\n",
       " ('rotterdam', 0.45599010586738586)]"
      ]
     },
     "execution_count": 17,
     "metadata": {},
     "output_type": "execute_result"
    }
   ],
   "source": [
    "wv.most_similar(negative=['paris'], positive=['france', 'amsterdam'])"
   ]
  },
  {
   "cell_type": "markdown",
   "id": "d8bb4209-277d-43cc-b0ae-c2eeb14cc80a",
   "metadata": {},
   "source": [
    "Note that it we would just retrieve the most similar words to 'amsterdam' we would receive a different result."
   ]
  },
  {
   "cell_type": "code",
   "execution_count": 20,
   "id": "c706938c-b43b-48fa-b8f8-fadc0e3cc679",
   "metadata": {},
   "outputs": [
    {
     "name": "stdout",
     "output_type": "stream",
     "text": [
      "[('rotterdam', 0.6485881209373474), ('schiphol', 0.5740087032318115), ('utrecht', 0.5608800053596497), ('netherlands', 0.5472348928451538), ('frankfurt', 0.5457332730293274)]\n"
     ]
    }
   ],
   "source": [
    "print(wv.most_similar(positive=['amsterdam'], topn=5))"
   ]
  },
  {
   "cell_type": "markdown",
   "id": "78358a92-7ecd-401e-8769-0e96093773e8",
   "metadata": {},
   "source": [
    "cat is to cats as girl is to ?\n",
    "\n",
    "girl - ? = cat - cats\n",
    "\n",
    "girl - cat + cats = ?"
   ]
  },
  {
   "cell_type": "code",
   "execution_count": 18,
   "id": "ec6c93a2-6521-4fa6-978d-9155ff752c59",
   "metadata": {},
   "outputs": [
    {
     "data": {
      "text/plain": [
       "[('girls', 0.6908110976219177),\n",
       " ('boys', 0.6055023074150085),\n",
       " ('boy', 0.5850904583930969),\n",
       " ('teenage', 0.5735769867897034),\n",
       " ('teenagers', 0.5600976943969727),\n",
       " ('teenager', 0.5530085563659668),\n",
       " ('teen', 0.5423317551612854),\n",
       " ('children', 0.5312655568122864),\n",
       " ('woman', 0.5233089327812195),\n",
       " ('babies', 0.5163544416427612)]"
      ]
     },
     "execution_count": 18,
     "metadata": {},
     "output_type": "execute_result"
    }
   ],
   "source": [
    "wv.most_similar(negative=['cat'], positive=['cats', 'girl'])"
   ]
  },
  {
   "cell_type": "markdown",
   "id": "881185d5-dfe8-4ecc-891c-c8ac4252b993",
   "metadata": {},
   "source": [
    "Compare against a baseline. What if we would just have retrieved the most similar words to 'girl'?"
   ]
  },
  {
   "cell_type": "code",
   "execution_count": 19,
   "id": "11d734b5-db11-4fe3-bf90-25e4e90d340e",
   "metadata": {},
   "outputs": [
    {
     "name": "stdout",
     "output_type": "stream",
     "text": [
      "[('boy', 0.8272891044616699), ('woman', 0.729641854763031), ('girls', 0.7227292060852051), ('teenager', 0.6509774327278137), ('teenage', 0.6492719054222107)]\n"
     ]
    }
   ],
   "source": [
    "print(wv.most_similar(positive=['girl'], topn=5))"
   ]
  },
  {
   "cell_type": "markdown",
   "id": "7af62f28-2170-49f7-a9ed-c0a53614670b",
   "metadata": {},
   "source": [
    "**Question:** Try a few of your own analogies.  Do you get the expected answer?\n"
   ]
  },
  {
   "cell_type": "markdown",
   "id": "3a7a1582-a70d-4bcf-98cb-64e1b2b0ed80",
   "metadata": {},
   "source": [
    "# Visualization\n",
    "\n",
    "We can't visualize embeddings in their raw format because of their high dimensionality.  \n",
    "However, we can use dimensionality reduction techniques such as **PCA** to project them onto a 2D space.\n"
   ]
  },
  {
   "cell_type": "code",
   "execution_count": 20,
   "id": "ef634f34-9207-4642-8a0c-f8bc984171ac",
   "metadata": {},
   "outputs": [],
   "source": [
    "def display_scatterplot(wv, words=None, sample=0):\n",
    "\n",
    "    # first get the word vectors\n",
    "    word_vectors = np.array([wv[w] for w in words])\n",
    "\n",
    "    # transform the data using PCA\n",
    "    wv_PCA = PCA().fit_transform(word_vectors)[:,:2]\n",
    "\n",
    "    plt.figure(figsize=(10,10))\n",
    "\n",
    "    plt.scatter(wv_PCA[:,0], wv_PCA[:,1],\n",
    "                edgecolors='k', c='r')\n",
    "\n",
    "    for word, (x,y) in zip(words, wv_PCA):\n",
    "        plt.text(x+0.05, y+0.05, word)"
   ]
  },
  {
   "cell_type": "code",
   "execution_count": 21,
   "id": "6b6eff4c-1984-4ecb-ba55-d6c6928cf110",
   "metadata": {},
   "outputs": [
    {
     "data": {
      "image/png": "[encoded data removed]",
      "text/plain": [
       "<Figure size 1000x1000 with 1 Axes>"
      ]
     },
     "metadata": {},
     "output_type": "display_data"
    }
   ],
   "source": [
    "display_scatterplot(wv,\n",
    "                        ['dog', 'cat', 'dogs', 'cats', 'horse', 'tiger',\n",
    "                         'university', 'lesson', 'student', 'students',\n",
    "                         'netherlands', 'amsterdam', 'utrecht', 'belgium', 'spain', 'china',\n",
    "                         'coffee', 'tea', 'pizza', 'sushi', 'sandwich',\n",
    "                         'car', 'train', 'bike', 'bicycle', 'trains'])"
   ]
  },
  {
   "cell_type": "markdown",
   "id": "a4d85329-6af4-4502-b029-2d019366ee12",
   "metadata": {},
   "source": [
    "**Question:** What do you notice in this plot?  \n",
    "Do the distances between the words make sense? Any surprises?  \n",
    "Feel free to add your own words!\n"
   ]
  },
  {
   "cell_type": "markdown",
   "id": "0d897862-4d73-4b71-a18e-ddc3ecf6bf59",
   "metadata": {},
   "source": [
    "# Biases"
   ]
  },
  {
   "cell_type": "code",
   "execution_count": 22,
   "id": "62af3714-331f-491a-ae56-91b0dbda26e0",
   "metadata": {},
   "outputs": [
    {
     "data": {
      "image/png": "[encoded data removed]",
      "text/plain": [
       "<Figure size 1000x1000 with 1 Axes>"
      ]
     },
     "metadata": {},
     "output_type": "display_data"
    }
   ],
   "source": [
    "display_scatterplot(wv,\n",
    "                        ['he', 'she', 'sister',\n",
    "                         'brother', 'man', 'woman',\n",
    "                         'nurse', 'doctor',\n",
    "                         'grandfather', 'grandmother',\n",
    "                         'math', 'arts',\n",
    "                         'daughter', 'son'])"
   ]
  },
  {
   "cell_type": "code",
   "execution_count": 23,
   "id": "6dda3353-8098-490c-8daa-ecf0cfc6b284",
   "metadata": {},
   "outputs": [],
   "source": [
    "def calc_avg_similiarity(wv, attribute_words, target_word):\n",
    "    score = 0\n",
    "\n",
    "    for attribute_word in attribute_words:\n",
    "            score += wv.similarity(attribute_word, target_word)\n",
    "\n",
    "    return score/len(attribute_words)"
   ]
  },
  {
   "cell_type": "code",
   "execution_count": 24,
   "id": "34a5cf31-387d-4c16-b7d0-0fff0a3e8426",
   "metadata": {},
   "outputs": [],
   "source": [
    "# set of attribute words\n",
    "attribute_words_m = ['male', 'man', 'boy', 'brother', 'he', 'him', 'his', 'son']\n",
    "attribute_words_f = ['female', 'woman', 'girl', 'sister', 'she',\n",
    "                     'her', 'hers', 'daughter']"
   ]
  },
  {
   "cell_type": "markdown",
   "id": "022dfa22-56f0-4aef-89e2-5b71f7cfac0e",
   "metadata": {},
   "source": [
    "**Question:** Is *math* more associated with male or female words?\n",
    "\n",
    "Compute the average cosine similarity between the target word and the set of attribute words.\n"
   ]
  },
  {
   "cell_type": "code",
   "execution_count": 25,
   "id": "1e031cf6-5957-4ca6-a348-b1445625845f",
   "metadata": {},
   "outputs": [
    {
     "name": "stdout",
     "output_type": "stream",
     "text": [
      "Avg. similarity with male words: 0.118\n",
      "Avg. similarity with female words: 0.105\n"
     ]
    }
   ],
   "source": [
    "print(\"Avg. similarity with male words: %.3f\" %\n",
    "      calc_avg_similiarity(wv, attribute_words_m, 'math'))\n",
    "print(\"Avg. similarity with female words: %.3f\" %\n",
    "      calc_avg_similiarity(wv, attribute_words_f, 'math'))"
   ]
  },
  {
   "cell_type": "markdown",
   "id": "d06c3d23-56b7-419e-8d75-6a8bddec0cf9",
   "metadata": {},
   "source": [
    "What about poetry?"
   ]
  },
  {
   "cell_type": "code",
   "execution_count": 26,
   "id": "a0402d6d-20f3-4b1e-9ddc-6523cc4231af",
   "metadata": {},
   "outputs": [
    {
     "name": "stdout",
     "output_type": "stream",
     "text": [
      "Avg. similarity with male words: 0.166\n",
      "Avg. similarity with female words: 0.185\n"
     ]
    }
   ],
   "source": [
    "print(\"Avg. similarity with male words: %.3f\" %\n",
    "      calc_avg_similiarity(wv, attribute_words_m, 'poetry'))\n",
    "print(\"Avg. similarity with female words: %.3f\" %\n",
    "      calc_avg_similiarity(wv, attribute_words_f, 'poetry'))"
   ]
  },
  {
   "cell_type": "markdown",
   "id": "93f9a86c-791e-4124-83c1-e27f8a95c8c6",
   "metadata": {},
   "source": [
    "# Next Steps\n",
    "\n",
    "Repeat this analysis but now with the GloVe model trained on Twitter data, e.g. `glove-twitter-50`.\n",
    "\n",
    "- Which model obtains better performance on the word similarity task? (WordSim353)\n",
    "- What other differences do you observe? (e.g., vocabulary, biases, etc.)\n",
    "\n",
    "---\n",
    "\n",
    "# FastText\n",
    "\n",
    "*(Only if you have time, this can take a while — around 11 minutes)*\n",
    "\n",
    "Load in a FastText model.\n"
   ]
  },
  {
   "cell_type": "code",
   "execution_count": null,
   "id": "e7bcbeda-0ae6-44e9-a45f-e6da80711dcd",
   "metadata": {},
   "outputs": [],
   "source": [
    "wv_f = api.load('fasttext-wiki-news-subwords-300')"
   ]
  },
  {
   "cell_type": "markdown",
   "id": "8da284cf-6a95-42ae-968d-61dd0f5afeee",
   "metadata": {},
   "source": [
    "Usage is very similar to before. For example, we can calulcate the similarity between two words"
   ]
  },
  {
   "cell_type": "code",
   "execution_count": null,
   "id": "f36885b5-70b4-48df-b7f3-2f1965b2c7c4",
   "metadata": {},
   "outputs": [],
   "source": [
    "print(wv_f.similarity(\"dog\", \"dogs\"))"
   ]
  },
  {
   "cell_type": "markdown",
   "id": "da993a0f-fb43-46fa-aadd-bcf26be7e931",
   "metadata": {},
   "source": [
    "**Question:** How does this compare to the similarity scores you obtained with the other models you tried?\n"
   ]
  },
  {
   "cell_type": "code",
   "execution_count": null,
   "id": "95817eb6-eca7-4db5-b03d-e311fa75d23f",
   "metadata": {},
   "outputs": [],
   "source": []
  }
 ],
 "metadata": {
  "kernelspec": {
   "display_name": "Python 3 (ipykernel)",
   "language": "python",
   "name": "python3"
  },
  "language_info": {
   "codemirror_mode": {
    "name": "ipython",
    "version": 3
   },
   "file_extension": ".py",
   "mimetype": "text/x-python",
   "name": "python",
   "nbconvert_exporter": "python",
   "pygments_lexer": "ipython3",
   "version": "3.11.9"
  }
 },
 "nbformat": 4,
 "nbformat_minor": 5
}

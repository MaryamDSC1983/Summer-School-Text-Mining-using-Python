{
 "cells": [
  {
   "cell_type": "markdown",
   "metadata": {},
   "source": [
    "# Practical 1: Text Pre-processing\n",
    "### Instructor:  Dr. Maryam Movahedifar\n",
    "\n",
    "<div style=\"display: flex; justify-content: space-between; align-items: center;\">\n",
    "  <span style=\"display: flex; align-items: center;\">\n",
    "    <b>Applied Text Mining - University of Bremen - Data Science Center</b>\n",
    "  </span>\n",
    "  <div style=\"display: flex; align-items: center; margin-left: auto;\">\n",
    "    <img src=\"Uni_Logo.png\" alt=\"Uni Logo\" style=\"width: 100px; margin-right: 10px;\">\n",
    "    <img src=\"DSC_Logo.png\" alt=\"DSC Logo\" style=\"width: 150px;\">\n",
    "  </div>\n",
    "</div>\n"
   ]
  },
  {
   "cell_type": "markdown",
   "metadata": {},
   "source": [
    "In this practical, we are first going to get acquainted with Python in Jupyter, then we will do some text preprocessing! Are you looking for Python documentation to refresh your knowledge of programming? If so, you can check [Python Documentation](https://docs.python.org/3/reference/).\n",
    "\n",
    "## Pre-processing Simple Texts\n",
    "Let's get started!  \n",
    "Here we are going to introduce **Python** and **Jupyter Notebook** a bit.**.\n",
    "\n",
    "1. Open **[Jupyter Notebook](https://jupyter.uni-bremen.de)** and create a new empty notebook to work with **Python 3**.\n",
    "\n",
    "To insert a new code cell below the cell you are currently in, press **`Alt + Enter`**.\n",
    "\n",
    "To stop your code from running in **Jupyter Notebook**:\n",
    "\n",
    "- Interrupt execution by clicking the **stop button** or by selecting **`Kernel → Interrupt`**.\n",
    "- If you want to remove all code in a particular cell, select the cell, press **`Esc`** and then **`D`** twice to delete it.\n",
    "\n",
    "**Note**: On Mac, use **`cmd`** instead of **`ctrl`** in shortcuts.\n",
    "\n",
    "Text is also known as a string variable, or as an array of characters. \n"
   ]
  },
  {
   "cell_type": "markdown",
   "metadata": {},
   "source": [
    "1. **Use the `!pip install` command and install the packages: `numpy`, `nltk`, `gensim`, scikit-learn, and `spacy`.**\n",
    "\n",
    "Generally, you only need to install each package once on your computer and load it again, however, in Jupyter you may need to reinstall a package once you are reconnecting to the network.\n"
   ]
  },
  {
   "cell_type": "code",
   "execution_count": 1,
   "metadata": {
    "id": "RZZMy9t4Pc0c"
   },
   "outputs": [],
   "source": [
    "!pip install -q scikit-learn -q numpy==1.24.0 gensim==4.3.3 spacy==3.5.1 nltk --upgrade"
   ]
  },
  {
   "cell_type": "markdown",
   "metadata": {},
   "source": [
    "2. **Create a variable `a` with the text value of `\"Hello @Text Mining World! I'm here to learn everything, right?\"`, and then print it!**\n"
   ]
  },
  {
   "cell_type": "code",
   "execution_count": 2,
   "metadata": {
    "colab": {
     "base_uri": "https://localhost:8080/",
     "height": 35
    },
    "id": "O8bq2jcrplA1",
    "outputId": "cff7e002-4dfb-411d-a53a-756e6f00a18f"
   },
   "outputs": [
    {
     "data": {
      "text/plain": [
       "\"Hello @Text Mining World! I'm here to learn everything, right?\""
      ]
     },
     "execution_count": 2,
     "metadata": {},
     "output_type": "execute_result"
    }
   ],
   "source": [
    "a = \"Hello @Text Mining World! I'm here to learn everything, right?\"\n",
    "a"
   ]
  },
  {
   "cell_type": "markdown",
   "metadata": {},
   "source": [
    "3. **Since this is an array, print the first and last character of your variable.**\n"
   ]
  },
  {
   "cell_type": "code",
   "execution_count": 3,
   "metadata": {
    "colab": {
     "base_uri": "https://localhost:8080/"
    },
    "id": "zrjVcpFOp4Bz",
    "outputId": "de527f55-7107-4dc2-f16a-a481611b174a"
   },
   "outputs": [
    {
     "name": "stdout",
     "output_type": "stream",
     "text": [
      "H\n",
      "?\n",
      "Length of your string is:  62\n",
      "?\n"
     ]
    }
   ],
   "source": [
    "print(a[0]) \n",
    "print(a[61])\n",
    "l = len(a)\n",
    "print(\"Length of your string is: \", l)\n",
    "print(a[l-1])"
   ]
  },
  {
   "cell_type": "markdown",
   "metadata": {},
   "source": [
    "4. **Import (load) the `nltk` package and use the function `lower()` to convert the characters in string `a` to their lowercase form and save it into a new variable `b`.**\n",
    "\n",
    "NB: `nltk` comes with many corpora, toy grammars, trained models, etc.\n",
    "\n",
    "To install the data, after installing `nltk`, you could use the `nltk.download()` data downloader. We will make use of this in **Question 8**."
   ]
  },
  {
   "cell_type": "code",
   "execution_count": 4,
   "metadata": {
    "colab": {
     "base_uri": "https://localhost:8080/"
    },
    "id": "qBcLDm6pAQ95",
    "outputId": "7c2e5ffd-f017-44fb-8d03-33b0a35fa6d0"
   },
   "outputs": [],
   "source": [
    "import nltk\n",
    "from nltk.tokenize import word_tokenize, sent_tokenize, TreebankWordTokenizer"
   ]
  },
  {
   "cell_type": "code",
   "execution_count": 5,
   "metadata": {},
   "outputs": [
    {
     "data": {
      "text/plain": [
       "\"hello @text mining world! i'm here to learn everything, right?\""
      ]
     },
     "execution_count": 5,
     "metadata": {},
     "output_type": "execute_result"
    }
   ],
   "source": [
    "b = a.lower()\n",
    "b"
   ]
  },
  {
   "cell_type": "markdown",
   "metadata": {},
   "source": [
    "5. **Use the `string` package to print the list of punctuations.**\n",
    "\n",
    "Punctuations can separate characters, words, phrases, or sentences. In some applications, they are very important to the task at hand; in others, they are redundant and should be removed!"
   ]
  },
  {
   "cell_type": "code",
   "execution_count": 6,
   "metadata": {
    "colab": {
     "base_uri": "https://localhost:8080/"
    },
    "id": "dBLc-wNQqix-",
    "outputId": "c04dde9f-33ee-4b4b-a3db-32c8b60b5cfc"
   },
   "outputs": [
    {
     "name": "stdout",
     "output_type": "stream",
     "text": [
      "!\"#$%&'()*+,-./:;<=>?@[\\]^_`{|}~\n"
     ]
    }
   ],
   "source": [
    "import string\n",
    "print(string.punctuation)"
   ]
  },
  {
   "cell_type": "code",
   "execution_count": 7,
   "metadata": {
    "colab": {
     "base_uri": "https://localhost:8080/"
    },
    "id": "6s-KLmDPrz0x",
    "outputId": "468c931e-6492-4410-a523-4def12537eb1"
   },
   "outputs": [
    {
     "name": "stderr",
     "output_type": "stream",
     "text": [
      "[nltk_data] Downloading package punkt to /home/jovyan/nltk_data...\n",
      "[nltk_data]   Package punkt is already up-to-date!\n"
     ]
    },
    {
     "data": {
      "text/plain": [
       "True"
      ]
     },
     "execution_count": 7,
     "metadata": {},
     "output_type": "execute_result"
    }
   ],
   "source": [
    "nltk.download(\"punkt\")"
   ]
  },
  {
   "cell_type": "markdown",
   "metadata": {},
   "source": [
    "6. **Use the punctuation list to remove the punctuations from the lowercase form of our example string `a`. Name your variable `c`.**"
   ]
  },
  {
   "cell_type": "code",
   "execution_count": 8,
   "metadata": {
    "colab": {
     "base_uri": "https://localhost:8080/"
    },
    "id": "Fmp2ohBcqxp7",
    "outputId": "6edfcc5d-b2ea-4b40-ae1c-f4283c453678"
   },
   "outputs": [
    {
     "name": "stdout",
     "output_type": "stream",
     "text": [
      "hello text mining world im here to learn everything right\n"
     ]
    }
   ],
   "source": [
    "# Remember there are many ways to remove punctuations! This is only one of them:\n",
    "c = \"\".join([char for char in b if char not in string.punctuation])\n",
    "print(c)"
   ]
  },
  {
   "cell_type": "markdown",
   "metadata": {},
   "source": [
    "7. **Use the function `word_tokenize()` from `nltk` and tokenize string `b`. Compare that with the tokenization of string `c`.**\n",
    "\n",
    "We see that the main difference is in punctuations, however, we also see that some words are now combined together in the tokenization of string `c`.\n"
   ]
  },
  {
   "cell_type": "code",
   "execution_count": 9,
   "metadata": {},
   "outputs": [
    {
     "name": "stderr",
     "output_type": "stream",
     "text": [
      "[nltk_data] Downloading package punkt to /home/jovyan/nltk_data...\n",
      "[nltk_data]   Unzipping tokenizers/punkt.zip.\n"
     ]
    },
    {
     "name": "stdout",
     "output_type": "stream",
     "text": [
      "Error with 'punkt' tokenizer, using TreebankWordTokenizer as fallback.\n",
      "['hello', '@', 'text', 'mining', 'world', '!', 'i', \"'m\", 'here', 'to', 'learn', 'everything', ',', 'right', '?']\n",
      "['hello', 'text', 'mining', 'world', 'im', 'here', 'to', 'learn', 'everything', 'right']\n"
     ]
    }
   ],
   "source": [
    "# Set nltk data path (modify this if needed)\n",
    "nltk.data.path.append('/home/jovyan/nltk_data')\n",
    "\n",
    "# Force re-download punkt to ensure it's available\n",
    "nltk.download('punkt', force=True)\n",
    "\n",
    "# Try word_tokenize\n",
    "try:\n",
    "    print(word_tokenize(b))\n",
    "    print(word_tokenize(c))\n",
    "except LookupError:\n",
    "    print(\"Error with 'punkt' tokenizer, using TreebankWordTokenizer as fallback.\")\n",
    "    tokenizer = TreebankWordTokenizer()\n",
    "    print(tokenizer.tokenize(b))\n",
    "    print(tokenizer.tokenize(c))\n"
   ]
  },
  {
   "cell_type": "markdown",
   "metadata": {},
   "source": [
    "8. **Use the function `RegexpTokenizer()` from `nltk` to tokenize the string `b` whilst removing punctuations. This way you will avoid unnecessary concatenations.**\n",
    "\n",
    "    With this tokenizer, you get similar output as with tokenizing the string `c`."
   ]
  },
  {
   "cell_type": "code",
   "execution_count": 10,
   "metadata": {
    "colab": {
     "base_uri": "https://localhost:8080/"
    },
    "id": "Ma4EZw0gsM4N",
    "outputId": "a1121ec6-5bf6-4bba-ae45-7397149076b3"
   },
   "outputs": [
    {
     "data": {
      "text/plain": [
       "['hello',\n",
       " 'text',\n",
       " 'mining',\n",
       " 'world',\n",
       " 'i',\n",
       " 'm',\n",
       " 'here',\n",
       " 'to',\n",
       " 'learn',\n",
       " 'everything',\n",
       " 'right']"
      ]
     },
     "execution_count": 10,
     "metadata": {},
     "output_type": "execute_result"
    }
   ],
   "source": [
    "from nltk.tokenize import RegexpTokenizer\n",
    "\n",
    "tokenizer = RegexpTokenizer(r'\\w+')\n",
    "tokenizer.tokenize(b)"
   ]
  },
  {
   "cell_type": "markdown",
   "metadata": {},
   "source": [
    "Pre-processing a text corpus (dataset)  \n",
    "Pre-processing a dataset is similar to pre-processing simple text strings. First, we need to get some data. For this, we can use our own dataset, or we can scrape data from the web or use social media APIs. There are also some websites with publicly available datasets:\n",
    "\n",
    "- CLARIN Resource Families\n",
    "- UCI Machine Learning Repository\n",
    "- Kaggle\n",
    "\n",
    "Here, we want to analyze and pre-process the Taylor Swift song lyrics data from all her albums. The dataset can be downloaded from the course website or alternatively from Kaggle.\n",
    "\n",
    "Upload `taylor_swift_lyrics.csv` to **Jupyter Notebook**. You can do this by clicking on the Files button on the very left side of Jupyter and drag and drop the data there or click the upload button. Alternatively, you can mount your drive and upload the dataset there.\n",
    "\n",
    "9. **Read the `taylor_swift.csv` dataset. Check the dataframe using `head()` and `tail()` functions.**"
   ]
  },
  {
   "cell_type": "code",
   "execution_count": 11,
   "metadata": {
    "id": "PVXuoYWmtxCD"
   },
   "outputs": [],
   "source": [
    "import pandas as pd\n",
    "ts_lyrics = pd.read_csv(\"taylor_swift_lyrics.csv\")"
   ]
  },
  {
   "cell_type": "code",
   "execution_count": 12,
   "metadata": {
    "colab": {
     "base_uri": "https://localhost:8080/",
     "height": 206
    },
    "id": "3G4kz8FovpWV",
    "outputId": "21a61f98-56a3-4cdf-b800-feb2417b3dcd"
   },
   "outputs": [
    {
     "data": {
      "text/html": [
       "<div>\n",
       "<style scoped>\n",
       "    .dataframe tbody tr th:only-of-type {\n",
       "        vertical-align: middle;\n",
       "    }\n",
       "\n",
       "    .dataframe tbody tr th {\n",
       "        vertical-align: top;\n",
       "    }\n",
       "\n",
       "    .dataframe thead th {\n",
       "        text-align: right;\n",
       "    }\n",
       "</style>\n",
       "<table border=\"1\" class=\"dataframe\">\n",
       "  <thead>\n",
       "    <tr style=\"text-align: right;\">\n",
       "      <th></th>\n",
       "      <th>Artist</th>\n",
       "      <th>Album</th>\n",
       "      <th>Title</th>\n",
       "      <th>Lyrics</th>\n",
       "    </tr>\n",
       "  </thead>\n",
       "  <tbody>\n",
       "    <tr>\n",
       "      <th>0</th>\n",
       "      <td>Taylor Swift</td>\n",
       "      <td>Taylor Swift</td>\n",
       "      <td>Tim McGraw</td>\n",
       "      <td>He said the way my blue eyes shinx\\nPut those ...</td>\n",
       "    </tr>\n",
       "    <tr>\n",
       "      <th>1</th>\n",
       "      <td>Taylor Swift</td>\n",
       "      <td>Taylor Swift</td>\n",
       "      <td>Picture to Burn</td>\n",
       "      <td>State the obvious, I didn't get my perfect fan...</td>\n",
       "    </tr>\n",
       "    <tr>\n",
       "      <th>2</th>\n",
       "      <td>Taylor Swift</td>\n",
       "      <td>Taylor Swift</td>\n",
       "      <td>Teardrops on my Guitar</td>\n",
       "      <td>Drew looks at me,\\nI fake a smile so he won't ...</td>\n",
       "    </tr>\n",
       "    <tr>\n",
       "      <th>3</th>\n",
       "      <td>Taylor Swift</td>\n",
       "      <td>Taylor Swift</td>\n",
       "      <td>A Place in This World</td>\n",
       "      <td>I don't know what I want, so don't ask me\\n'Ca...</td>\n",
       "    </tr>\n",
       "    <tr>\n",
       "      <th>4</th>\n",
       "      <td>Taylor Swift</td>\n",
       "      <td>Taylor Swift</td>\n",
       "      <td>Cold As You</td>\n",
       "      <td>You have a way of coming easily to me\\nAnd whe...</td>\n",
       "    </tr>\n",
       "  </tbody>\n",
       "</table>\n",
       "</div>"
      ],
      "text/plain": [
       "         Artist           Album                   Title   \\\n",
       "0  Taylor Swift   Taylor Swift                Tim McGraw   \n",
       "1  Taylor Swift   Taylor Swift           Picture to Burn   \n",
       "2  Taylor Swift   Taylor Swift   Teardrops on my Guitar    \n",
       "3  Taylor Swift   Taylor Swift    A Place in This World    \n",
       "4  Taylor Swift   Taylor Swift              Cold As You    \n",
       "\n",
       "                                              Lyrics  \n",
       "0  He said the way my blue eyes shinx\\nPut those ...  \n",
       "1  State the obvious, I didn't get my perfect fan...  \n",
       "2  Drew looks at me,\\nI fake a smile so he won't ...  \n",
       "3  I don't know what I want, so don't ask me\\n'Ca...  \n",
       "4  You have a way of coming easily to me\\nAnd whe...  "
      ]
     },
     "execution_count": 12,
     "metadata": {},
     "output_type": "execute_result"
    }
   ],
   "source": [
    "ts_lyrics.head()"
   ]
  },
  {
   "cell_type": "code",
   "execution_count": 13,
   "metadata": {
    "colab": {
     "base_uri": "https://localhost:8080/",
     "height": 206
    },
    "id": "X3sc3zkdvwjk",
    "outputId": "d13e3211-6b2c-4ef7-da9e-30eb9515e5d9"
   },
   "outputs": [
    {
     "data": {
      "text/html": [
       "<div>\n",
       "<style scoped>\n",
       "    .dataframe tbody tr th:only-of-type {\n",
       "        vertical-align: middle;\n",
       "    }\n",
       "\n",
       "    .dataframe tbody tr th {\n",
       "        vertical-align: top;\n",
       "    }\n",
       "\n",
       "    .dataframe thead th {\n",
       "        text-align: right;\n",
       "    }\n",
       "</style>\n",
       "<table border=\"1\" class=\"dataframe\">\n",
       "  <thead>\n",
       "    <tr style=\"text-align: right;\">\n",
       "      <th></th>\n",
       "      <th>Artist</th>\n",
       "      <th>Album</th>\n",
       "      <th>Title</th>\n",
       "      <th>Lyrics</th>\n",
       "    </tr>\n",
       "  </thead>\n",
       "  <tbody>\n",
       "    <tr>\n",
       "      <th>127</th>\n",
       "      <td>Taylor Swift</td>\n",
       "      <td>folklore</td>\n",
       "      <td>mad woman</td>\n",
       "      <td>What did you think I'd say to that?\\nDoes a sc...</td>\n",
       "    </tr>\n",
       "    <tr>\n",
       "      <th>128</th>\n",
       "      <td>Taylor Swift</td>\n",
       "      <td>folklore</td>\n",
       "      <td>epiphany</td>\n",
       "      <td>Keep your helmet\\nKeep your life, son\\nJust a ...</td>\n",
       "    </tr>\n",
       "    <tr>\n",
       "      <th>129</th>\n",
       "      <td>Taylor Swift</td>\n",
       "      <td>folklore</td>\n",
       "      <td>betty</td>\n",
       "      <td>Betty, I won't make assumptions about why you ...</td>\n",
       "    </tr>\n",
       "    <tr>\n",
       "      <th>130</th>\n",
       "      <td>Taylor Swift</td>\n",
       "      <td>folklore</td>\n",
       "      <td>peace</td>\n",
       "      <td>Our coming of age has come and gone\\nSuddenly ...</td>\n",
       "    </tr>\n",
       "    <tr>\n",
       "      <th>131</th>\n",
       "      <td>Taylor Swift</td>\n",
       "      <td>folklore</td>\n",
       "      <td>hoax</td>\n",
       "      <td>My only one\\nMy smoking gun\\nMy eclipsed sun\\n...</td>\n",
       "    </tr>\n",
       "  </tbody>\n",
       "</table>\n",
       "</div>"
      ],
      "text/plain": [
       "           Artist       Album     Title   \\\n",
       "127  Taylor Swift   folklore   mad woman   \n",
       "128  Taylor Swift   folklore    epiphany   \n",
       "129  Taylor Swift   folklore       betty   \n",
       "130  Taylor Swift   folklore       peace   \n",
       "131  Taylor Swift   folklore        hoax   \n",
       "\n",
       "                                                Lyrics  \n",
       "127  What did you think I'd say to that?\\nDoes a sc...  \n",
       "128  Keep your helmet\\nKeep your life, son\\nJust a ...  \n",
       "129  Betty, I won't make assumptions about why you ...  \n",
       "130  Our coming of age has come and gone\\nSuddenly ...  \n",
       "131  My only one\\nMy smoking gun\\nMy eclipsed sun\\n...  "
      ]
     },
     "execution_count": 13,
     "metadata": {},
     "output_type": "execute_result"
    }
   ],
   "source": [
    "ts_lyrics.tail()"
   ]
  },
  {
   "cell_type": "code",
   "execution_count": 14,
   "metadata": {
    "colab": {
     "base_uri": "https://localhost:8080/"
    },
    "id": "PYewLW-1v_iX",
    "outputId": "8debcae8-01dd-482f-93fa-8a29f59e9702"
   },
   "outputs": [
    {
     "data": {
      "text/plain": [
       "Artist                                         Taylor Swift \n",
       "Album                                          Taylor Swift \n",
       "Title                                             Tim McGraw\n",
       "Lyrics     He said the way my blue eyes shinx\\nPut those ...\n",
       "Name: 0, dtype: object"
      ]
     },
     "execution_count": 14,
     "metadata": {},
     "output_type": "execute_result"
    }
   ],
   "source": [
    "ts_lyrics.iloc[0]"
   ]
  },
  {
   "cell_type": "code",
   "execution_count": 15,
   "metadata": {
    "colab": {
     "base_uri": "https://localhost:8080/",
     "height": 308
    },
    "id": "6E6EdJr6wVW-",
    "outputId": "1f24aa5f-2173-4709-f0a6-0f87a73b689d"
   },
   "outputs": [
    {
     "data": {
      "text/html": [
       "<div>\n",
       "<style scoped>\n",
       "    .dataframe tbody tr th:only-of-type {\n",
       "        vertical-align: middle;\n",
       "    }\n",
       "\n",
       "    .dataframe tbody tr th {\n",
       "        vertical-align: top;\n",
       "    }\n",
       "\n",
       "    .dataframe thead th {\n",
       "        text-align: right;\n",
       "    }\n",
       "</style>\n",
       "<table border=\"1\" class=\"dataframe\">\n",
       "  <thead>\n",
       "    <tr style=\"text-align: right;\">\n",
       "      <th></th>\n",
       "      <th>Artist</th>\n",
       "      <th>Album</th>\n",
       "      <th>Title</th>\n",
       "      <th>Lyrics</th>\n",
       "    </tr>\n",
       "  </thead>\n",
       "  <tbody>\n",
       "    <tr>\n",
       "      <th>0</th>\n",
       "      <td>Taylor Swift</td>\n",
       "      <td>Taylor Swift</td>\n",
       "      <td>Tim McGraw</td>\n",
       "      <td>He said the way my blue eyes shinx\\nPut those ...</td>\n",
       "    </tr>\n",
       "  </tbody>\n",
       "</table>\n",
       "</div>"
      ],
      "text/plain": [
       "         Artist           Album      Title   \\\n",
       "0  Taylor Swift   Taylor Swift   Tim McGraw   \n",
       "\n",
       "                                              Lyrics  \n",
       "0  He said the way my blue eyes shinx\\nPut those ...  "
      ]
     },
     "execution_count": 15,
     "metadata": {},
     "output_type": "execute_result"
    }
   ],
   "source": [
    "ts_lyrics.head(1)"
   ]
  },
  {
   "cell_type": "markdown",
   "metadata": {},
   "source": [
    "10. **Add a new column to the dataframe and name it Preprocessed Lyrics , then fill the column with the preprocessed text including the steps in this and the following questions. First replace the \\n sequences with a space character.**"
   ]
  },
  {
   "cell_type": "code",
   "execution_count": 16,
   "metadata": {
    "colab": {
     "base_uri": "https://localhost:8080/",
     "height": 206
    },
    "id": "bmJMveiMwxUl",
    "outputId": "1cadfab3-4d8c-43b3-8dd1-670d8eb50f69"
   },
   "outputs": [
    {
     "data": {
      "text/html": [
       "<div>\n",
       "<style scoped>\n",
       "    .dataframe tbody tr th:only-of-type {\n",
       "        vertical-align: middle;\n",
       "    }\n",
       "\n",
       "    .dataframe tbody tr th {\n",
       "        vertical-align: top;\n",
       "    }\n",
       "\n",
       "    .dataframe thead th {\n",
       "        text-align: right;\n",
       "    }\n",
       "</style>\n",
       "<table border=\"1\" class=\"dataframe\">\n",
       "  <thead>\n",
       "    <tr style=\"text-align: right;\">\n",
       "      <th></th>\n",
       "      <th>Artist</th>\n",
       "      <th>Album</th>\n",
       "      <th>Title</th>\n",
       "      <th>Lyrics</th>\n",
       "      <th>Preprocessed Lyrics</th>\n",
       "    </tr>\n",
       "  </thead>\n",
       "  <tbody>\n",
       "    <tr>\n",
       "      <th>0</th>\n",
       "      <td>Taylor Swift</td>\n",
       "      <td>Taylor Swift</td>\n",
       "      <td>Tim McGraw</td>\n",
       "      <td>He said the way my blue eyes shinx\\nPut those ...</td>\n",
       "      <td>He said the way my blue eyes shinx Put those G...</td>\n",
       "    </tr>\n",
       "    <tr>\n",
       "      <th>1</th>\n",
       "      <td>Taylor Swift</td>\n",
       "      <td>Taylor Swift</td>\n",
       "      <td>Picture to Burn</td>\n",
       "      <td>State the obvious, I didn't get my perfect fan...</td>\n",
       "      <td>State the obvious, I didn't get my perfect fan...</td>\n",
       "    </tr>\n",
       "    <tr>\n",
       "      <th>2</th>\n",
       "      <td>Taylor Swift</td>\n",
       "      <td>Taylor Swift</td>\n",
       "      <td>Teardrops on my Guitar</td>\n",
       "      <td>Drew looks at me,\\nI fake a smile so he won't ...</td>\n",
       "      <td>Drew looks at me, I fake a smile so he won't s...</td>\n",
       "    </tr>\n",
       "    <tr>\n",
       "      <th>3</th>\n",
       "      <td>Taylor Swift</td>\n",
       "      <td>Taylor Swift</td>\n",
       "      <td>A Place in This World</td>\n",
       "      <td>I don't know what I want, so don't ask me\\n'Ca...</td>\n",
       "      <td>I don't know what I want, so don't ask me 'Cau...</td>\n",
       "    </tr>\n",
       "    <tr>\n",
       "      <th>4</th>\n",
       "      <td>Taylor Swift</td>\n",
       "      <td>Taylor Swift</td>\n",
       "      <td>Cold As You</td>\n",
       "      <td>You have a way of coming easily to me\\nAnd whe...</td>\n",
       "      <td>You have a way of coming easily to me And when...</td>\n",
       "    </tr>\n",
       "  </tbody>\n",
       "</table>\n",
       "</div>"
      ],
      "text/plain": [
       "         Artist           Album                   Title   \\\n",
       "0  Taylor Swift   Taylor Swift                Tim McGraw   \n",
       "1  Taylor Swift   Taylor Swift           Picture to Burn   \n",
       "2  Taylor Swift   Taylor Swift   Teardrops on my Guitar    \n",
       "3  Taylor Swift   Taylor Swift    A Place in This World    \n",
       "4  Taylor Swift   Taylor Swift              Cold As You    \n",
       "\n",
       "                                              Lyrics  \\\n",
       "0  He said the way my blue eyes shinx\\nPut those ...   \n",
       "1  State the obvious, I didn't get my perfect fan...   \n",
       "2  Drew looks at me,\\nI fake a smile so he won't ...   \n",
       "3  I don't know what I want, so don't ask me\\n'Ca...   \n",
       "4  You have a way of coming easily to me\\nAnd whe...   \n",
       "\n",
       "                                 Preprocessed Lyrics  \n",
       "0  He said the way my blue eyes shinx Put those G...  \n",
       "1  State the obvious, I didn't get my perfect fan...  \n",
       "2  Drew looks at me, I fake a smile so he won't s...  \n",
       "3  I don't know what I want, so don't ask me 'Cau...  \n",
       "4  You have a way of coming easily to me And when...  "
      ]
     },
     "execution_count": 16,
     "metadata": {},
     "output_type": "execute_result"
    }
   ],
   "source": [
    "import re\n",
    "def remove_linebreaks(text):\n",
    "    \"\"\"custom function to remove the line breaks\"\"\"\n",
    "    return re.sub(r'\\n', ' ', text)\n",
    "\n",
    "ts_lyrics[\"Preprocessed Lyrics\"] = ts_lyrics[\"Lyrics\"].apply(lambda text: remove_linebreaks(text))\n",
    "ts_lyrics.head()"
   ]
  },
  {
   "cell_type": "markdown",
   "metadata": {},
   "source": [
    "11. **Write another custom function to remove the punctuations. You can use the previous method or make use of the function maketrans() from the string package.**"
   ]
  },
  {
   "cell_type": "code",
   "execution_count": 17,
   "metadata": {
    "colab": {
     "base_uri": "https://localhost:8080/",
     "height": 206
    },
    "id": "1jVVzgP7xXKS",
    "outputId": "c22280fb-b068-4614-9575-28dcd25ea937"
   },
   "outputs": [
    {
     "data": {
      "text/html": [
       "<div>\n",
       "<style scoped>\n",
       "    .dataframe tbody tr th:only-of-type {\n",
       "        vertical-align: middle;\n",
       "    }\n",
       "\n",
       "    .dataframe tbody tr th {\n",
       "        vertical-align: top;\n",
       "    }\n",
       "\n",
       "    .dataframe thead th {\n",
       "        text-align: right;\n",
       "    }\n",
       "</style>\n",
       "<table border=\"1\" class=\"dataframe\">\n",
       "  <thead>\n",
       "    <tr style=\"text-align: right;\">\n",
       "      <th></th>\n",
       "      <th>Artist</th>\n",
       "      <th>Album</th>\n",
       "      <th>Title</th>\n",
       "      <th>Lyrics</th>\n",
       "      <th>Preprocessed Lyrics</th>\n",
       "    </tr>\n",
       "  </thead>\n",
       "  <tbody>\n",
       "    <tr>\n",
       "      <th>0</th>\n",
       "      <td>Taylor Swift</td>\n",
       "      <td>Taylor Swift</td>\n",
       "      <td>Tim McGraw</td>\n",
       "      <td>He said the way my blue eyes shinx\\nPut those ...</td>\n",
       "      <td>He said the way my blue eyes shinx Put those G...</td>\n",
       "    </tr>\n",
       "    <tr>\n",
       "      <th>1</th>\n",
       "      <td>Taylor Swift</td>\n",
       "      <td>Taylor Swift</td>\n",
       "      <td>Picture to Burn</td>\n",
       "      <td>State the obvious, I didn't get my perfect fan...</td>\n",
       "      <td>State the obvious I didnt get my perfect fanta...</td>\n",
       "    </tr>\n",
       "    <tr>\n",
       "      <th>2</th>\n",
       "      <td>Taylor Swift</td>\n",
       "      <td>Taylor Swift</td>\n",
       "      <td>Teardrops on my Guitar</td>\n",
       "      <td>Drew looks at me,\\nI fake a smile so he won't ...</td>\n",
       "      <td>Drew looks at me I fake a smile so he wont see...</td>\n",
       "    </tr>\n",
       "    <tr>\n",
       "      <th>3</th>\n",
       "      <td>Taylor Swift</td>\n",
       "      <td>Taylor Swift</td>\n",
       "      <td>A Place in This World</td>\n",
       "      <td>I don't know what I want, so don't ask me\\n'Ca...</td>\n",
       "      <td>I dont know what I want so dont ask me Cause I...</td>\n",
       "    </tr>\n",
       "    <tr>\n",
       "      <th>4</th>\n",
       "      <td>Taylor Swift</td>\n",
       "      <td>Taylor Swift</td>\n",
       "      <td>Cold As You</td>\n",
       "      <td>You have a way of coming easily to me\\nAnd whe...</td>\n",
       "      <td>You have a way of coming easily to me And when...</td>\n",
       "    </tr>\n",
       "  </tbody>\n",
       "</table>\n",
       "</div>"
      ],
      "text/plain": [
       "         Artist           Album                   Title   \\\n",
       "0  Taylor Swift   Taylor Swift                Tim McGraw   \n",
       "1  Taylor Swift   Taylor Swift           Picture to Burn   \n",
       "2  Taylor Swift   Taylor Swift   Teardrops on my Guitar    \n",
       "3  Taylor Swift   Taylor Swift    A Place in This World    \n",
       "4  Taylor Swift   Taylor Swift              Cold As You    \n",
       "\n",
       "                                              Lyrics  \\\n",
       "0  He said the way my blue eyes shinx\\nPut those ...   \n",
       "1  State the obvious, I didn't get my perfect fan...   \n",
       "2  Drew looks at me,\\nI fake a smile so he won't ...   \n",
       "3  I don't know what I want, so don't ask me\\n'Ca...   \n",
       "4  You have a way of coming easily to me\\nAnd whe...   \n",
       "\n",
       "                                 Preprocessed Lyrics  \n",
       "0  He said the way my blue eyes shinx Put those G...  \n",
       "1  State the obvious I didnt get my perfect fanta...  \n",
       "2  Drew looks at me I fake a smile so he wont see...  \n",
       "3  I dont know what I want so dont ask me Cause I...  \n",
       "4  You have a way of coming easily to me And when...  "
      ]
     },
     "execution_count": 17,
     "metadata": {},
     "output_type": "execute_result"
    }
   ],
   "source": [
    "def remove_punctuation(text):\n",
    "    \"\"\"custom function to remove the punctuation\"\"\"\n",
    "    return text.translate(str.maketrans('', '', string.punctuation))\n",
    "\n",
    "ts_lyrics[\"Preprocessed Lyrics\"] = ts_lyrics[\"Preprocessed Lyrics\"].apply(lambda text: remove_punctuation(text))\n",
    "ts_lyrics.head()"
   ]
  },
  {
   "cell_type": "markdown",
   "metadata": {},
   "source": [
    "12. **Change all the characters to their lower forms. Think about why and when we need this step in our analysis.**"
   ]
  },
  {
   "cell_type": "code",
   "execution_count": 18,
   "metadata": {
    "colab": {
     "base_uri": "https://localhost:8080/",
     "height": 206
    },
    "id": "R8_0mffgxdNf",
    "outputId": "f673c8e4-d424-41b6-9c58-2caef8e47489"
   },
   "outputs": [
    {
     "data": {
      "text/html": [
       "<div>\n",
       "<style scoped>\n",
       "    .dataframe tbody tr th:only-of-type {\n",
       "        vertical-align: middle;\n",
       "    }\n",
       "\n",
       "    .dataframe tbody tr th {\n",
       "        vertical-align: top;\n",
       "    }\n",
       "\n",
       "    .dataframe thead th {\n",
       "        text-align: right;\n",
       "    }\n",
       "</style>\n",
       "<table border=\"1\" class=\"dataframe\">\n",
       "  <thead>\n",
       "    <tr style=\"text-align: right;\">\n",
       "      <th></th>\n",
       "      <th>Artist</th>\n",
       "      <th>Album</th>\n",
       "      <th>Title</th>\n",
       "      <th>Lyrics</th>\n",
       "      <th>Preprocessed Lyrics</th>\n",
       "    </tr>\n",
       "  </thead>\n",
       "  <tbody>\n",
       "    <tr>\n",
       "      <th>0</th>\n",
       "      <td>Taylor Swift</td>\n",
       "      <td>Taylor Swift</td>\n",
       "      <td>Tim McGraw</td>\n",
       "      <td>He said the way my blue eyes shinx\\nPut those ...</td>\n",
       "      <td>he said the way my blue eyes shinx put those g...</td>\n",
       "    </tr>\n",
       "    <tr>\n",
       "      <th>1</th>\n",
       "      <td>Taylor Swift</td>\n",
       "      <td>Taylor Swift</td>\n",
       "      <td>Picture to Burn</td>\n",
       "      <td>State the obvious, I didn't get my perfect fan...</td>\n",
       "      <td>state the obvious i didnt get my perfect fanta...</td>\n",
       "    </tr>\n",
       "    <tr>\n",
       "      <th>2</th>\n",
       "      <td>Taylor Swift</td>\n",
       "      <td>Taylor Swift</td>\n",
       "      <td>Teardrops on my Guitar</td>\n",
       "      <td>Drew looks at me,\\nI fake a smile so he won't ...</td>\n",
       "      <td>drew looks at me i fake a smile so he wont see...</td>\n",
       "    </tr>\n",
       "    <tr>\n",
       "      <th>3</th>\n",
       "      <td>Taylor Swift</td>\n",
       "      <td>Taylor Swift</td>\n",
       "      <td>A Place in This World</td>\n",
       "      <td>I don't know what I want, so don't ask me\\n'Ca...</td>\n",
       "      <td>i dont know what i want so dont ask me cause i...</td>\n",
       "    </tr>\n",
       "    <tr>\n",
       "      <th>4</th>\n",
       "      <td>Taylor Swift</td>\n",
       "      <td>Taylor Swift</td>\n",
       "      <td>Cold As You</td>\n",
       "      <td>You have a way of coming easily to me\\nAnd whe...</td>\n",
       "      <td>you have a way of coming easily to me and when...</td>\n",
       "    </tr>\n",
       "  </tbody>\n",
       "</table>\n",
       "</div>"
      ],
      "text/plain": [
       "         Artist           Album                   Title   \\\n",
       "0  Taylor Swift   Taylor Swift                Tim McGraw   \n",
       "1  Taylor Swift   Taylor Swift           Picture to Burn   \n",
       "2  Taylor Swift   Taylor Swift   Teardrops on my Guitar    \n",
       "3  Taylor Swift   Taylor Swift    A Place in This World    \n",
       "4  Taylor Swift   Taylor Swift              Cold As You    \n",
       "\n",
       "                                              Lyrics  \\\n",
       "0  He said the way my blue eyes shinx\\nPut those ...   \n",
       "1  State the obvious, I didn't get my perfect fan...   \n",
       "2  Drew looks at me,\\nI fake a smile so he won't ...   \n",
       "3  I don't know what I want, so don't ask me\\n'Ca...   \n",
       "4  You have a way of coming easily to me\\nAnd whe...   \n",
       "\n",
       "                                 Preprocessed Lyrics  \n",
       "0  he said the way my blue eyes shinx put those g...  \n",
       "1  state the obvious i didnt get my perfect fanta...  \n",
       "2  drew looks at me i fake a smile so he wont see...  \n",
       "3  i dont know what i want so dont ask me cause i...  \n",
       "4  you have a way of coming easily to me and when...  "
      ]
     },
     "execution_count": 18,
     "metadata": {},
     "output_type": "execute_result"
    }
   ],
   "source": [
    "ts_lyrics[\"Preprocessed Lyrics\"] = ts_lyrics[\"Preprocessed Lyrics\"].str.lower()\n",
    "ts_lyrics.head()"
   ]
  },
  {
   "cell_type": "markdown",
   "metadata": {},
   "source": [
    "13. **List the 20 most frequent terms in this dataframe.**"
   ]
  },
  {
   "cell_type": "code",
   "execution_count": 19,
   "metadata": {
    "colab": {
     "base_uri": "https://localhost:8080/"
    },
    "id": "3P1Y2C7VxjJl",
    "outputId": "ada0de80-5089-4695-b972-aabdbb76e454"
   },
   "outputs": [
    {
     "name": "stdout",
     "output_type": "stream",
     "text": [
      "[('i', 2377), ('you', 2319), ('the', 1623), ('and', 1403), ('me', 885), ('to', 843), ('a', 787), ('in', 686), ('it', 674), ('my', 642), ('of', 492), ('your', 475), ('we', 441), ('that', 436), ('all', 436), ('but', 428), ('like', 406), ('im', 404), ('this', 394), ('know', 380)]\n"
     ]
    }
   ],
   "source": [
    "from collections import Counter\n",
    "\n",
    "# To get all lyrics in one text, you can concatenate all of them using the \" \".join(list) syntax,\n",
    "# which joins all elements in a list separating them by whitespace.\n",
    "text = \" \".join(lyric for lyric in ts_lyrics[\"Preprocessed Lyrics\"])\n",
    "\n",
    "# split() returns list of all the words in the string\n",
    "split_it = text.split()\n",
    "\n",
    "# Pass the split_it list to instance of Counter class.\n",
    "Counter = Counter(split_it)\n",
    "\n",
    "# most_common() produces k frequently encountered input values and their respective counts.\n",
    "most_occur = Counter.most_common(20)\n",
    "\n",
    "print(most_occur)"
   ]
  },
  {
   "cell_type": "markdown",
   "metadata": {},
   "source": [
    "You see that these are mainly stop words. Before removing them let's plot a wordcloud of our data."
   ]
  },
  {
   "cell_type": "markdown",
   "metadata": {},
   "source": [
    "14. **Plot a wordcloud with max 50 words using the WordCloud() function from the wordcloud package. Use the command ?WordCloud to check the help for this function.**"
   ]
  },
  {
   "cell_type": "code",
   "execution_count": 20,
   "metadata": {
    "id": "aFnsEg7cxznD"
   },
   "outputs": [],
   "source": [
    "!pip install -q wordcloud"
   ]
  },
  {
   "cell_type": "code",
   "execution_count": 21,
   "metadata": {
    "id": "wHndesmBx3gD"
   },
   "outputs": [
    {
     "data": {
      "text/plain": [
       "\u001b[0;31mInit signature:\u001b[0m\n",
       "\u001b[0mWordCloud\u001b[0m\u001b[0;34m(\u001b[0m\u001b[0;34m\u001b[0m\n",
       "\u001b[0;34m\u001b[0m    \u001b[0mfont_path\u001b[0m\u001b[0;34m=\u001b[0m\u001b[0;32mNone\u001b[0m\u001b[0;34m,\u001b[0m\u001b[0;34m\u001b[0m\n",
       "\u001b[0;34m\u001b[0m    \u001b[0mwidth\u001b[0m\u001b[0;34m=\u001b[0m\u001b[0;36m400\u001b[0m\u001b[0;34m,\u001b[0m\u001b[0;34m\u001b[0m\n",
       "\u001b[0;34m\u001b[0m    \u001b[0mheight\u001b[0m\u001b[0;34m=\u001b[0m\u001b[0;36m200\u001b[0m\u001b[0;34m,\u001b[0m\u001b[0;34m\u001b[0m\n",
       "\u001b[0;34m\u001b[0m    \u001b[0mmargin\u001b[0m\u001b[0;34m=\u001b[0m\u001b[0;36m2\u001b[0m\u001b[0;34m,\u001b[0m\u001b[0;34m\u001b[0m\n",
       "\u001b[0;34m\u001b[0m    \u001b[0mranks_only\u001b[0m\u001b[0;34m=\u001b[0m\u001b[0;32mNone\u001b[0m\u001b[0;34m,\u001b[0m\u001b[0;34m\u001b[0m\n",
       "\u001b[0;34m\u001b[0m    \u001b[0mprefer_horizontal\u001b[0m\u001b[0;34m=\u001b[0m\u001b[0;36m0.9\u001b[0m\u001b[0;34m,\u001b[0m\u001b[0;34m\u001b[0m\n",
       "\u001b[0;34m\u001b[0m    \u001b[0mmask\u001b[0m\u001b[0;34m=\u001b[0m\u001b[0;32mNone\u001b[0m\u001b[0;34m,\u001b[0m\u001b[0;34m\u001b[0m\n",
       "\u001b[0;34m\u001b[0m    \u001b[0mscale\u001b[0m\u001b[0;34m=\u001b[0m\u001b[0;36m1\u001b[0m\u001b[0;34m,\u001b[0m\u001b[0;34m\u001b[0m\n",
       "\u001b[0;34m\u001b[0m    \u001b[0mcolor_func\u001b[0m\u001b[0;34m=\u001b[0m\u001b[0;32mNone\u001b[0m\u001b[0;34m,\u001b[0m\u001b[0;34m\u001b[0m\n",
       "\u001b[0;34m\u001b[0m    \u001b[0mmax_words\u001b[0m\u001b[0;34m=\u001b[0m\u001b[0;36m200\u001b[0m\u001b[0;34m,\u001b[0m\u001b[0;34m\u001b[0m\n",
       "\u001b[0;34m\u001b[0m    \u001b[0mmin_font_size\u001b[0m\u001b[0;34m=\u001b[0m\u001b[0;36m4\u001b[0m\u001b[0;34m,\u001b[0m\u001b[0;34m\u001b[0m\n",
       "\u001b[0;34m\u001b[0m    \u001b[0mstopwords\u001b[0m\u001b[0;34m=\u001b[0m\u001b[0;32mNone\u001b[0m\u001b[0;34m,\u001b[0m\u001b[0;34m\u001b[0m\n",
       "\u001b[0;34m\u001b[0m    \u001b[0mrandom_state\u001b[0m\u001b[0;34m=\u001b[0m\u001b[0;32mNone\u001b[0m\u001b[0;34m,\u001b[0m\u001b[0;34m\u001b[0m\n",
       "\u001b[0;34m\u001b[0m    \u001b[0mbackground_color\u001b[0m\u001b[0;34m=\u001b[0m\u001b[0;34m'black'\u001b[0m\u001b[0;34m,\u001b[0m\u001b[0;34m\u001b[0m\n",
       "\u001b[0;34m\u001b[0m    \u001b[0mmax_font_size\u001b[0m\u001b[0;34m=\u001b[0m\u001b[0;32mNone\u001b[0m\u001b[0;34m,\u001b[0m\u001b[0;34m\u001b[0m\n",
       "\u001b[0;34m\u001b[0m    \u001b[0mfont_step\u001b[0m\u001b[0;34m=\u001b[0m\u001b[0;36m1\u001b[0m\u001b[0;34m,\u001b[0m\u001b[0;34m\u001b[0m\n",
       "\u001b[0;34m\u001b[0m    \u001b[0mmode\u001b[0m\u001b[0;34m=\u001b[0m\u001b[0;34m'RGB'\u001b[0m\u001b[0;34m,\u001b[0m\u001b[0;34m\u001b[0m\n",
       "\u001b[0;34m\u001b[0m    \u001b[0mrelative_scaling\u001b[0m\u001b[0;34m=\u001b[0m\u001b[0;34m'auto'\u001b[0m\u001b[0;34m,\u001b[0m\u001b[0;34m\u001b[0m\n",
       "\u001b[0;34m\u001b[0m    \u001b[0mregexp\u001b[0m\u001b[0;34m=\u001b[0m\u001b[0;32mNone\u001b[0m\u001b[0;34m,\u001b[0m\u001b[0;34m\u001b[0m\n",
       "\u001b[0;34m\u001b[0m    \u001b[0mcollocations\u001b[0m\u001b[0;34m=\u001b[0m\u001b[0;32mTrue\u001b[0m\u001b[0;34m,\u001b[0m\u001b[0;34m\u001b[0m\n",
       "\u001b[0;34m\u001b[0m    \u001b[0mcolormap\u001b[0m\u001b[0;34m=\u001b[0m\u001b[0;32mNone\u001b[0m\u001b[0;34m,\u001b[0m\u001b[0;34m\u001b[0m\n",
       "\u001b[0;34m\u001b[0m    \u001b[0mnormalize_plurals\u001b[0m\u001b[0;34m=\u001b[0m\u001b[0;32mTrue\u001b[0m\u001b[0;34m,\u001b[0m\u001b[0;34m\u001b[0m\n",
       "\u001b[0;34m\u001b[0m    \u001b[0mcontour_width\u001b[0m\u001b[0;34m=\u001b[0m\u001b[0;36m0\u001b[0m\u001b[0;34m,\u001b[0m\u001b[0;34m\u001b[0m\n",
       "\u001b[0;34m\u001b[0m    \u001b[0mcontour_color\u001b[0m\u001b[0;34m=\u001b[0m\u001b[0;34m'black'\u001b[0m\u001b[0;34m,\u001b[0m\u001b[0;34m\u001b[0m\n",
       "\u001b[0;34m\u001b[0m    \u001b[0mrepeat\u001b[0m\u001b[0;34m=\u001b[0m\u001b[0;32mFalse\u001b[0m\u001b[0;34m,\u001b[0m\u001b[0;34m\u001b[0m\n",
       "\u001b[0;34m\u001b[0m    \u001b[0minclude_numbers\u001b[0m\u001b[0;34m=\u001b[0m\u001b[0;32mFalse\u001b[0m\u001b[0;34m,\u001b[0m\u001b[0;34m\u001b[0m\n",
       "\u001b[0;34m\u001b[0m    \u001b[0mmin_word_length\u001b[0m\u001b[0;34m=\u001b[0m\u001b[0;36m0\u001b[0m\u001b[0;34m,\u001b[0m\u001b[0;34m\u001b[0m\n",
       "\u001b[0;34m\u001b[0m    \u001b[0mcollocation_threshold\u001b[0m\u001b[0;34m=\u001b[0m\u001b[0;36m30\u001b[0m\u001b[0;34m,\u001b[0m\u001b[0;34m\u001b[0m\n",
       "\u001b[0;34m\u001b[0m\u001b[0;34m)\u001b[0m\u001b[0;34m\u001b[0m\u001b[0;34m\u001b[0m\u001b[0m\n",
       "\u001b[0;31mDocstring:\u001b[0m     \n",
       "Word cloud object for generating and drawing.\n",
       "\n",
       "Parameters\n",
       "----------\n",
       "font_path : string\n",
       "    Font path to the font that will be used (OTF or TTF).\n",
       "    Defaults to DroidSansMono path on a Linux machine. If you are on\n",
       "    another OS or don't have this font, you need to adjust this path.\n",
       "\n",
       "width : int (default=400)\n",
       "    Width of the canvas.\n",
       "\n",
       "height : int (default=200)\n",
       "    Height of the canvas.\n",
       "\n",
       "prefer_horizontal : float (default=0.90)\n",
       "    The ratio of times to try horizontal fitting as opposed to vertical.\n",
       "    If prefer_horizontal < 1, the algorithm will try rotating the word\n",
       "    if it doesn't fit. (There is currently no built-in way to get only\n",
       "    vertical words.)\n",
       "\n",
       "mask : nd-array or None (default=None)\n",
       "    If not None, gives a binary mask on where to draw words. If mask is not\n",
       "    None, width and height will be ignored and the shape of mask will be\n",
       "    used instead. All white (#FF or #FFFFFF) entries will be considerd\n",
       "    \"masked out\" while other entries will be free to draw on. [This\n",
       "    changed in the most recent version!]\n",
       "\n",
       "contour_width: float (default=0)\n",
       "    If mask is not None and contour_width > 0, draw the mask contour.\n",
       "\n",
       "contour_color: color value (default=\"black\")\n",
       "    Mask contour color.\n",
       "\n",
       "scale : float (default=1)\n",
       "    Scaling between computation and drawing. For large word-cloud images,\n",
       "    using scale instead of larger canvas size is significantly faster, but\n",
       "    might lead to a coarser fit for the words.\n",
       "\n",
       "min_font_size : int (default=4)\n",
       "    Smallest font size to use. Will stop when there is no more room in this\n",
       "    size.\n",
       "\n",
       "font_step : int (default=1)\n",
       "    Step size for the font. font_step > 1 might speed up computation but\n",
       "    give a worse fit.\n",
       "\n",
       "max_words : number (default=200)\n",
       "    The maximum number of words.\n",
       "\n",
       "stopwords : set of strings or None\n",
       "    The words that will be eliminated. If None, the build-in STOPWORDS\n",
       "    list will be used. Ignored if using generate_from_frequencies.\n",
       "\n",
       "background_color : color value (default=\"black\")\n",
       "    Background color for the word cloud image.\n",
       "\n",
       "max_font_size : int or None (default=None)\n",
       "    Maximum font size for the largest word. If None, height of the image is\n",
       "    used.\n",
       "\n",
       "mode : string (default=\"RGB\")\n",
       "    Transparent background will be generated when mode is \"RGBA\" and\n",
       "    background_color is None.\n",
       "\n",
       "relative_scaling : float (default='auto')\n",
       "    Importance of relative word frequencies for font-size.  With\n",
       "    relative_scaling=0, only word-ranks are considered.  With\n",
       "    relative_scaling=1, a word that is twice as frequent will have twice\n",
       "    the size.  If you want to consider the word frequencies and not only\n",
       "    their rank, relative_scaling around .5 often looks good.\n",
       "    If 'auto' it will be set to 0.5 unless repeat is true, in which\n",
       "    case it will be set to 0.\n",
       "\n",
       "    .. versionchanged: 2.0\n",
       "        Default is now 'auto'.\n",
       "\n",
       "color_func : callable, default=None\n",
       "    Callable with parameters word, font_size, position, orientation,\n",
       "    font_path, random_state that returns a PIL color for each word.\n",
       "    Overwrites \"colormap\".\n",
       "    See colormap for specifying a matplotlib colormap instead.\n",
       "    To create a word cloud with a single color, use\n",
       "    ``color_func=lambda *args, **kwargs: \"white\"``.\n",
       "    The single color can also be specified using RGB code. For example\n",
       "    ``color_func=lambda *args, **kwargs: (255,0,0)`` sets color to red.\n",
       "\n",
       "regexp : string or None (optional)\n",
       "    Regular expression to split the input text into tokens in process_text.\n",
       "    If None is specified, ``r\"\\w[\\w']+\"`` is used. Ignored if using\n",
       "    generate_from_frequencies.\n",
       "\n",
       "collocations : bool, default=True\n",
       "    Whether to include collocations (bigrams) of two words. Ignored if using\n",
       "    generate_from_frequencies.\n",
       "\n",
       "\n",
       "    .. versionadded: 2.0\n",
       "\n",
       "colormap : string or matplotlib colormap, default=\"viridis\"\n",
       "    Matplotlib colormap to randomly draw colors from for each word.\n",
       "    Ignored if \"color_func\" is specified.\n",
       "\n",
       "    .. versionadded: 2.0\n",
       "\n",
       "normalize_plurals : bool, default=True\n",
       "    Whether to remove trailing 's' from words. If True and a word\n",
       "    appears with and without a trailing 's', the one with trailing 's'\n",
       "    is removed and its counts are added to the version without\n",
       "    trailing 's' -- unless the word ends with 'ss'. Ignored if using\n",
       "    generate_from_frequencies.\n",
       "\n",
       "repeat : bool, default=False\n",
       "    Whether to repeat words and phrases until max_words or min_font_size\n",
       "    is reached.\n",
       "\n",
       "include_numbers : bool, default=False\n",
       "    Whether to include numbers as phrases or not.\n",
       "\n",
       "min_word_length : int, default=0\n",
       "    Minimum number of letters a word must have to be included.\n",
       "\n",
       "collocation_threshold: int, default=30\n",
       "    Bigrams must have a Dunning likelihood collocation score greater than this\n",
       "    parameter to be counted as bigrams. Default of 30 is arbitrary.\n",
       "\n",
       "    See Manning, C.D., Manning, C.D. and Schütze, H., 1999. Foundations of\n",
       "    Statistical Natural Language Processing. MIT press, p. 162\n",
       "    https://nlp.stanford.edu/fsnlp/promo/colloc.pdf#page=22\n",
       "\n",
       "Attributes\n",
       "----------\n",
       "``words_`` : dict of string to float\n",
       "    Word tokens with associated frequency.\n",
       "\n",
       "    .. versionchanged: 2.0\n",
       "        ``words_`` is now a dictionary\n",
       "\n",
       "``layout_`` : list of tuples ((string, float), int, (int, int), int, color))\n",
       "    Encodes the fitted word cloud. For each word, it encodes the string,\n",
       "    normalized frequency, font size, position, orientation, and color.\n",
       "    The frequencies are normalized by the most commonly occurring word.\n",
       "    The color is in the format of 'rgb(R, G, B).'\n",
       "\n",
       "Notes\n",
       "-----\n",
       "Larger canvases make the code significantly slower. If you need a\n",
       "large word cloud, try a lower canvas size, and set the scale parameter.\n",
       "\n",
       "The algorithm might give more weight to the ranking of the words\n",
       "than their actual frequencies, depending on the ``max_font_size`` and the\n",
       "scaling heuristic.\n",
       "\u001b[0;31mFile:\u001b[0m           /opt/conda/lib/python3.11/site-packages/wordcloud/wordcloud.py\n",
       "\u001b[0;31mType:\u001b[0m           type\n",
       "\u001b[0;31mSubclasses:\u001b[0m     "
      ]
     },
     "metadata": {},
     "output_type": "display_data"
    }
   ],
   "source": [
    "from wordcloud import WordCloud\n",
    "?WordCloud"
   ]
  },
  {
   "cell_type": "code",
   "execution_count": 22,
   "metadata": {
    "colab": {
     "base_uri": "https://localhost:8080/",
     "height": 285
    },
    "id": "30SltYb7x8Fy",
    "outputId": "2024cf9f-a7aa-40c5-8941-09b71c0a890c"
   },
   "outputs": [
    {
     "data": {
      "image/png": "[encoded data removed]",
      "text/plain": [
       "<Figure size 640x480 with 1 Axes>"
      ]
     },
     "metadata": {},
     "output_type": "display_data"
    }
   ],
   "source": [
    "import matplotlib.pyplot as plt\n",
    "\n",
    "wordcloud = WordCloud(max_font_size=50, max_words=50, background_color=\"white\").generate(text)\n",
    "plt.figure()\n",
    "plt.imshow(wordcloud, interpolation=\"bilinear\")\n",
    "plt.axis(\"off\")\n",
    "plt.show()"
   ]
  },
  {
   "cell_type": "markdown",
   "metadata": {},
   "source": [
    "15. **Use the English stop word list from the nltk package to remove the stop words. Check the stop words and update them with your optional list of words, for example: \"im\", \"youre\", \"id\", \"dont\", \"cant\", \"didnt\", \"ive\", \"ill\", \"hasnt\". Show the most frequent terms and plot the wordcould of 50 words again.**"
   ]
  },
  {
   "cell_type": "code",
   "execution_count": 23,
   "metadata": {
    "colab": {
     "base_uri": "https://localhost:8080/"
    },
    "id": "B9cUBqo5yEsm",
    "outputId": "9ed189a0-e156-4a8d-8be1-9ebf4ba9f2a3"
   },
   "outputs": [
    {
     "name": "stdout",
     "output_type": "stream",
     "text": [
      "{\"she's\", 'been', 'until', \"shan't\", \"won't\", \"hadn't\", 'mightn', 't', \"she'd\", 'both', 'isn', 's', 'under', 'yourself', 'for', 'between', 'o', \"you've\", \"shouldn't\", \"i've\", 'such', \"we've\", \"you'd\", 'against', 'and', 'shouldn', 'when', 'at', 'now', 'in', 'not', \"we're\", 'there', 'your', 'a', 'had', \"it'd\", \"didn't\", 'by', \"haven't\", 'wouldn', 'whom', 'these', 'the', 'don', 'more', \"they'd\", 'any', 'own', 'during', 'hadn', 'll', 'only', 'before', \"mightn't\", 'from', 'he', 'then', 'out', 'having', 'his', 'didn', 'be', 'hers', 'weren', 'y', 'as', 'further', 'which', 'their', 'about', 'its', \"she'll\", 'through', 'him', 'couldn', \"he'd\", 'haven', 'has', 'no', 'she', 'some', 've', 'itself', 'was', 'himself', 'of', 'who', \"mustn't\", 'our', \"aren't\", 'ours', 'ain', \"that'll\", 'i', 'how', 'this', 'were', 'yours', 'they', \"don't\", \"doesn't\", \"i'm\", \"it's\", 'doing', 'should', 'doesn', 'me', 'needn', 'you', 'above', 'down', 'nor', \"should've\", 'once', \"we'd\", 'yourselves', 'below', 'd', 'on', 'than', 'them', 'won', 'but', 'to', 'am', 'too', 'will', 'with', 'does', 're', 'themselves', 'do', 'what', 'wasn', 'that', 'off', 'my', 'is', 'after', \"couldn't\", \"we'll\", 'have', \"he'll\", 'each', 'did', 'herself', 'into', 'other', \"they'll\", 'if', 'are', 'an', 'here', \"isn't\", 'hasn', 'shan', 'her', \"they're\", 'same', 'where', \"you'll\", \"you're\", 'theirs', 'aren', 'or', 'most', 'all', 'm', 'over', \"hasn't\", 'ourselves', 'being', 'so', 'it', 'myself', 'why', \"wouldn't\", 'mustn', 'ma', 'because', \"he's\", 'we', 'while', 'those', \"i'd\", \"they've\", 'very', 'can', \"it'll\", \"needn't\", 'up', 'just', \"weren't\", 'few', \"wasn't\", 'again', \"i'll\"}\n"
     ]
    },
    {
     "name": "stderr",
     "output_type": "stream",
     "text": [
      "[nltk_data] Downloading package stopwords to /home/jovyan/nltk_data...\n",
      "[nltk_data]   Package stopwords is already up-to-date!\n"
     ]
    }
   ],
   "source": [
    "from nltk.corpus import stopwords\n",
    "# run the code nltk.download('stopwords') if needed\n",
    "nltk.download('stopwords')\n",
    "stop_words = set(stopwords.words('english'))\n",
    "print(stop_words)"
   ]
  },
  {
   "cell_type": "code",
   "execution_count": 24,
   "metadata": {
    "colab": {
     "base_uri": "https://localhost:8080/"
    },
    "id": "tE6I7sblyIHC",
    "outputId": "f97be473-ec1d-4f1d-f9f5-f2ea0d2fd0fa"
   },
   "outputs": [
    {
     "name": "stderr",
     "output_type": "stream",
     "text": [
      "[nltk_data] Downloading package stopwords to /home/jovyan/nltk_data...\n",
      "[nltk_data]   Package stopwords is already up-to-date!\n"
     ]
    },
    {
     "data": {
      "text/plain": [
       "True"
      ]
     },
     "execution_count": 24,
     "metadata": {},
     "output_type": "execute_result"
    }
   ],
   "source": [
    "nltk.download(\"stopwords\")"
   ]
  },
  {
   "cell_type": "code",
   "execution_count": 25,
   "metadata": {
    "colab": {
     "base_uri": "https://localhost:8080/"
    },
    "id": "zZJzxxeqyaaD",
    "outputId": "c6a5a082-a1cf-412f-aaf2-0a65fd72f0b2"
   },
   "outputs": [
    {
     "name": "stdout",
     "output_type": "stream",
     "text": [
      "{\"she's\", 'been', 'until', \"shan't\", \"won't\", \"hadn't\", 'mightn', 't', \"she'd\", 'both', 'isn', 's', 'under', 'yourself', 'for', 'between', 'o', \"you've\", \"shouldn't\", \"i've\", 'such', \"we've\", \"you'd\", 'against', 'and', 'youre', 'shouldn', 'when', 'at', 'now', 'in', 'not', \"we're\", 'there', 'your', 'a', 'had', \"it'd\", \"didn't\", 'by', \"haven't\", 'wouldn', 'whom', 'these', 'ill', 'the', 'cant', 'don', 'hasnt', 'more', \"they'd\", 'any', 'own', 'during', 'hadn', 'll', 'only', 'before', \"mightn't\", 'from', 'he', 'then', 'out', 'having', 'his', 'didn', 'be', 'hers', 'weren', 'y', 'as', 'further', 'which', 'their', 'about', 'its', \"she'll\", 'through', 'him', 'couldn', \"he'd\", 'haven', 'has', 'no', 'she', 'some', 've', 'itself', 'was', 'himself', 'of', 'who', \"mustn't\", 'our', \"aren't\", 'ours', 'ain', \"that'll\", 'i', 'how', 'this', 'were', 'yours', 'they', \"don't\", \"doesn't\", \"i'm\", \"it's\", 'doing', 'should', 'doesn', 'me', 'needn', 'you', 'above', 'down', 'nor', \"should've\", 'once', \"we'd\", 'yourselves', 'below', 'd', 'on', 'than', 'them', 'won', 'but', 'ive', 'to', 'am', 'too', 'will', 'with', 'does', 're', 'themselves', 'do', 'what', 'wasn', 'that', 'off', 'my', 'is', 'after', \"couldn't\", \"we'll\", 'have', \"he'll\", 'each', 'did', 'herself', 'into', 'other', \"they'll\", 'didnt', 'if', 'are', 'an', 'here', \"isn't\", 'hasn', 'shan', 'her', \"they're\", 'same', 'where', \"you'll\", \"you're\", 'theirs', 'aren', 'or', 'most', 'all', 'm', 'over', \"hasn't\", 'ourselves', 'being', 'so', 'it', 'myself', 'dont', 'why', \"wouldn't\", 'mustn', 'ma', 'because', \"he's\", 'we', 'while', 'im', 'those', \"i'd\", \"they've\", 'very', 'can', \"it'll\", \"needn't\", 'up', 'just', \"weren't\", 'id', 'few', \"wasn't\", 'again', \"i'll\"}\n"
     ]
    }
   ],
   "source": [
    "stop_words.update([\"im\", \"youre\", \"id\", \"dont\", \"cant\", \"didnt\", \"ive\", \"ill\", \"hasnt\"])\n",
    "# stop_words.discard('word') # this is when you want to remove a word from the list\n",
    "print(stop_words)\n"
   ]
  },
  {
   "cell_type": "code",
   "execution_count": 26,
   "metadata": {
    "colab": {
     "base_uri": "https://localhost:8080/",
     "height": 206
    },
    "id": "bvi1fVBFyltX",
    "outputId": "d90919a9-1059-4b58-ab2c-4e3987605b4e"
   },
   "outputs": [
    {
     "data": {
      "text/html": [
       "<div>\n",
       "<style scoped>\n",
       "    .dataframe tbody tr th:only-of-type {\n",
       "        vertical-align: middle;\n",
       "    }\n",
       "\n",
       "    .dataframe tbody tr th {\n",
       "        vertical-align: top;\n",
       "    }\n",
       "\n",
       "    .dataframe thead th {\n",
       "        text-align: right;\n",
       "    }\n",
       "</style>\n",
       "<table border=\"1\" class=\"dataframe\">\n",
       "  <thead>\n",
       "    <tr style=\"text-align: right;\">\n",
       "      <th></th>\n",
       "      <th>Artist</th>\n",
       "      <th>Album</th>\n",
       "      <th>Title</th>\n",
       "      <th>Lyrics</th>\n",
       "      <th>Preprocessed Lyrics</th>\n",
       "    </tr>\n",
       "  </thead>\n",
       "  <tbody>\n",
       "    <tr>\n",
       "      <th>0</th>\n",
       "      <td>Taylor Swift</td>\n",
       "      <td>Taylor Swift</td>\n",
       "      <td>Tim McGraw</td>\n",
       "      <td>He said the way my blue eyes shinx\\nPut those ...</td>\n",
       "      <td>said way blue eyes shinx put georgia stars sha...</td>\n",
       "    </tr>\n",
       "    <tr>\n",
       "      <th>1</th>\n",
       "      <td>Taylor Swift</td>\n",
       "      <td>Taylor Swift</td>\n",
       "      <td>Picture to Burn</td>\n",
       "      <td>State the obvious, I didn't get my perfect fan...</td>\n",
       "      <td>state obvious get perfect fantasy realize love...</td>\n",
       "    </tr>\n",
       "    <tr>\n",
       "      <th>2</th>\n",
       "      <td>Taylor Swift</td>\n",
       "      <td>Taylor Swift</td>\n",
       "      <td>Teardrops on my Guitar</td>\n",
       "      <td>Drew looks at me,\\nI fake a smile so he won't ...</td>\n",
       "      <td>drew looks fake smile wont see want need every...</td>\n",
       "    </tr>\n",
       "    <tr>\n",
       "      <th>3</th>\n",
       "      <td>Taylor Swift</td>\n",
       "      <td>Taylor Swift</td>\n",
       "      <td>A Place in This World</td>\n",
       "      <td>I don't know what I want, so don't ask me\\n'Ca...</td>\n",
       "      <td>know want ask cause still trying figure know w...</td>\n",
       "    </tr>\n",
       "    <tr>\n",
       "      <th>4</th>\n",
       "      <td>Taylor Swift</td>\n",
       "      <td>Taylor Swift</td>\n",
       "      <td>Cold As You</td>\n",
       "      <td>You have a way of coming easily to me\\nAnd whe...</td>\n",
       "      <td>way coming easily take take best start fight c...</td>\n",
       "    </tr>\n",
       "  </tbody>\n",
       "</table>\n",
       "</div>"
      ],
      "text/plain": [
       "         Artist           Album                   Title   \\\n",
       "0  Taylor Swift   Taylor Swift                Tim McGraw   \n",
       "1  Taylor Swift   Taylor Swift           Picture to Burn   \n",
       "2  Taylor Swift   Taylor Swift   Teardrops on my Guitar    \n",
       "3  Taylor Swift   Taylor Swift    A Place in This World    \n",
       "4  Taylor Swift   Taylor Swift              Cold As You    \n",
       "\n",
       "                                              Lyrics  \\\n",
       "0  He said the way my blue eyes shinx\\nPut those ...   \n",
       "1  State the obvious, I didn't get my perfect fan...   \n",
       "2  Drew looks at me,\\nI fake a smile so he won't ...   \n",
       "3  I don't know what I want, so don't ask me\\n'Ca...   \n",
       "4  You have a way of coming easily to me\\nAnd whe...   \n",
       "\n",
       "                                 Preprocessed Lyrics  \n",
       "0  said way blue eyes shinx put georgia stars sha...  \n",
       "1  state obvious get perfect fantasy realize love...  \n",
       "2  drew looks fake smile wont see want need every...  \n",
       "3  know want ask cause still trying figure know w...  \n",
       "4  way coming easily take take best start fight c...  "
      ]
     },
     "execution_count": 26,
     "metadata": {},
     "output_type": "execute_result"
    }
   ],
   "source": [
    "def remove_stopwords(text):\n",
    "    \"\"\"custom function to remove the stopwords\"\"\"\n",
    "    return \" \".join([word for word in str(text).split() if word not in stop_words])\n",
    "\n",
    "ts_lyrics[\"Preprocessed Lyrics\"] = ts_lyrics[\"Preprocessed Lyrics\"].apply(lambda text: remove_stopwords(text))\n",
    "ts_lyrics.head()"
   ]
  },
  {
   "cell_type": "code",
   "execution_count": 27,
   "metadata": {
    "colab": {
     "base_uri": "https://localhost:8080/"
    },
    "id": "RNulOV3Gyumx",
    "outputId": "c0064ce1-732e-42b4-df61-a911d1c23b5f"
   },
   "outputs": [
    {
     "name": "stdout",
     "output_type": "stream",
     "text": [
      "[('like', 406), ('know', 380), ('oh', 322), ('never', 294), ('love', 246), ('back', 240), ('time', 224), ('cause', 213), ('one', 177), ('say', 176), ('see', 170), ('got', 159), ('wanna', 158), ('think', 153), ('baby', 153), ('come', 150), ('go', 149), ('want', 142), ('ever', 134), ('could', 133)]\n"
     ]
    }
   ],
   "source": [
    "from collections import Counter\n",
    "\n",
    "# To get all lyrics in one text, you can concatenate all of them using the \" \".join(list) syntax,\n",
    "# which joins all elements in a list separating them by whitespace.\n",
    "text = \" \".join(lyric for lyric in ts_lyrics[\"Preprocessed Lyrics\"])\n",
    "\n",
    "# split() returns list of all the words in the string\n",
    "split_it = text.split()\n",
    "\n",
    "# Pass the split_it list to instance of Counter class.\n",
    "Counter = Counter(split_it)\n",
    "\n",
    "# most_common() produces k frequently encountered input values and their respective counts.\n",
    "most_occur = Counter.most_common(20)\n",
    "\n",
    "print(most_occur)"
   ]
  },
  {
   "cell_type": "code",
   "execution_count": 28,
   "metadata": {
    "colab": {
     "base_uri": "https://localhost:8080/",
     "height": 285
    },
    "id": "7F-papT2y1yC",
    "outputId": "0e770917-2a83-4bc5-9ae8-fe5dab9c8905"
   },
   "outputs": [
    {
     "data": {
      "image/png": "[encoded data removed]",
      "text/plain": [
       "<Figure size 640x480 with 1 Axes>"
      ]
     },
     "metadata": {},
     "output_type": "display_data"
    }
   ],
   "source": [
    "wordcloud = WordCloud(max_words=50, background_color=\"white\").generate(text)\n",
    "plt.figure()\n",
    "plt.imshow(wordcloud, interpolation=\"bilinear\")\n",
    "plt.axis(\"off\")\n",
    "plt.show()"
   ]
  },
  {
   "cell_type": "markdown",
   "metadata": {},
   "source": [
    "16. **We can apply stemming or lemmatization on our text data. Apply a lemmatizer from nltk and save the results.**"
   ]
  },
  {
   "cell_type": "code",
   "execution_count": 29,
   "metadata": {
    "colab": {
     "base_uri": "https://localhost:8080/",
     "height": 206
    },
    "id": "H-Cf9gSIzC2p",
    "outputId": "99b3b5bb-17d6-4dbe-d91e-05b537417803"
   },
   "outputs": [
    {
     "name": "stderr",
     "output_type": "stream",
     "text": [
      "[nltk_data] Downloading package wordnet to /home/jovyan/nltk_data...\n",
      "[nltk_data]   Package wordnet is already up-to-date!\n"
     ]
    },
    {
     "data": {
      "text/html": [
       "<div>\n",
       "<style scoped>\n",
       "    .dataframe tbody tr th:only-of-type {\n",
       "        vertical-align: middle;\n",
       "    }\n",
       "\n",
       "    .dataframe tbody tr th {\n",
       "        vertical-align: top;\n",
       "    }\n",
       "\n",
       "    .dataframe thead th {\n",
       "        text-align: right;\n",
       "    }\n",
       "</style>\n",
       "<table border=\"1\" class=\"dataframe\">\n",
       "  <thead>\n",
       "    <tr style=\"text-align: right;\">\n",
       "      <th></th>\n",
       "      <th>Artist</th>\n",
       "      <th>Album</th>\n",
       "      <th>Title</th>\n",
       "      <th>Lyrics</th>\n",
       "      <th>Preprocessed Lyrics</th>\n",
       "    </tr>\n",
       "  </thead>\n",
       "  <tbody>\n",
       "    <tr>\n",
       "      <th>0</th>\n",
       "      <td>Taylor Swift</td>\n",
       "      <td>Taylor Swift</td>\n",
       "      <td>Tim McGraw</td>\n",
       "      <td>He said the way my blue eyes shinx\\nPut those ...</td>\n",
       "      <td>said way blue eye shinx put georgia star shame...</td>\n",
       "    </tr>\n",
       "    <tr>\n",
       "      <th>1</th>\n",
       "      <td>Taylor Swift</td>\n",
       "      <td>Taylor Swift</td>\n",
       "      <td>Picture to Burn</td>\n",
       "      <td>State the obvious, I didn't get my perfect fan...</td>\n",
       "      <td>state obvious get perfect fantasy realize love...</td>\n",
       "    </tr>\n",
       "    <tr>\n",
       "      <th>2</th>\n",
       "      <td>Taylor Swift</td>\n",
       "      <td>Taylor Swift</td>\n",
       "      <td>Teardrops on my Guitar</td>\n",
       "      <td>Drew looks at me,\\nI fake a smile so he won't ...</td>\n",
       "      <td>drew look fake smile wont see want need everyt...</td>\n",
       "    </tr>\n",
       "    <tr>\n",
       "      <th>3</th>\n",
       "      <td>Taylor Swift</td>\n",
       "      <td>Taylor Swift</td>\n",
       "      <td>A Place in This World</td>\n",
       "      <td>I don't know what I want, so don't ask me\\n'Ca...</td>\n",
       "      <td>know want ask cause still trying figure know w...</td>\n",
       "    </tr>\n",
       "    <tr>\n",
       "      <th>4</th>\n",
       "      <td>Taylor Swift</td>\n",
       "      <td>Taylor Swift</td>\n",
       "      <td>Cold As You</td>\n",
       "      <td>You have a way of coming easily to me\\nAnd whe...</td>\n",
       "      <td>way coming easily take take best start fight c...</td>\n",
       "    </tr>\n",
       "  </tbody>\n",
       "</table>\n",
       "</div>"
      ],
      "text/plain": [
       "         Artist           Album                   Title   \\\n",
       "0  Taylor Swift   Taylor Swift                Tim McGraw   \n",
       "1  Taylor Swift   Taylor Swift           Picture to Burn   \n",
       "2  Taylor Swift   Taylor Swift   Teardrops on my Guitar    \n",
       "3  Taylor Swift   Taylor Swift    A Place in This World    \n",
       "4  Taylor Swift   Taylor Swift              Cold As You    \n",
       "\n",
       "                                              Lyrics  \\\n",
       "0  He said the way my blue eyes shinx\\nPut those ...   \n",
       "1  State the obvious, I didn't get my perfect fan...   \n",
       "2  Drew looks at me,\\nI fake a smile so he won't ...   \n",
       "3  I don't know what I want, so don't ask me\\n'Ca...   \n",
       "4  You have a way of coming easily to me\\nAnd whe...   \n",
       "\n",
       "                                 Preprocessed Lyrics  \n",
       "0  said way blue eye shinx put georgia star shame...  \n",
       "1  state obvious get perfect fantasy realize love...  \n",
       "2  drew look fake smile wont see want need everyt...  \n",
       "3  know want ask cause still trying figure know w...  \n",
       "4  way coming easily take take best start fight c...  "
      ]
     },
     "execution_count": 29,
     "metadata": {},
     "output_type": "execute_result"
    }
   ],
   "source": [
    "from nltk.stem import WordNetLemmatizer\n",
    "# run the code nltk.download('wordnet') if needed\n",
    "nltk.download('wordnet')\n",
    "lemmatizer = WordNetLemmatizer()\n",
    "def lemmatize_words(text):\n",
    "    return \" \".join([lemmatizer.lemmatize(word) for word in text.split()])\n",
    "\n",
    "ts_lyrics[\"Preprocessed Lyrics\"] = ts_lyrics[\"Preprocessed Lyrics\"].apply(lambda text: lemmatize_words(text))\n",
    "ts_lyrics.head()"
   ]
  },
  {
   "cell_type": "code",
   "execution_count": 30,
   "metadata": {
    "colab": {
     "base_uri": "https://localhost:8080/"
    },
    "id": "8jSjcbx0zGjY",
    "outputId": "cf0394b7-5974-4a12-eee2-c1cdddd27862"
   },
   "outputs": [
    {
     "name": "stderr",
     "output_type": "stream",
     "text": [
      "[nltk_data] Downloading package wordnet to /home/jovyan/nltk_data...\n",
      "[nltk_data]   Package wordnet is already up-to-date!\n"
     ]
    },
    {
     "data": {
      "text/plain": [
       "True"
      ]
     },
     "execution_count": 30,
     "metadata": {},
     "output_type": "execute_result"
    }
   ],
   "source": [
    "nltk.download(\"wordnet\")"
   ]
  },
  {
   "cell_type": "markdown",
   "metadata": {},
   "source": [
    "And here is the code for stemming:"
   ]
  },
  {
   "cell_type": "code",
   "execution_count": 31,
   "metadata": {
    "id": "FUgEaunVza_E"
   },
   "outputs": [],
   "source": [
    "from nltk.stem.porter import PorterStemmer\n",
    "\n",
    "stemmer = PorterStemmer()\n",
    "def stem_words(text):\n",
    "    return \" \".join([stemmer.stem(word) for word in text.split()])\n",
    "\n",
    "# since we applied the lemmatization, we don't apply stemming; though you can try it!\n",
    "# ts_lyrics[\"Preprocessed Lyrics\"] = ts_lyrics[\"Preprocessed Lyrics\"].apply(lambda text: stem_words(text))\n",
    "# ts_lyrics.head()"
   ]
  },
  {
   "cell_type": "markdown",
   "metadata": {},
   "source": [
    "The PorterStemmer() is for English language. If we are working with other languages, we can use other stemmers such as the SnowballStemmer() which supports:"
   ]
  },
  {
   "cell_type": "code",
   "execution_count": 32,
   "metadata": {
    "colab": {
     "base_uri": "https://localhost:8080/"
    },
    "id": "QN2smuqGzr4x",
    "outputId": "8774821e-41ce-47e6-a916-c1843c76f50c"
   },
   "outputs": [
    {
     "data": {
      "text/plain": [
       "('arabic',\n",
       " 'danish',\n",
       " 'dutch',\n",
       " 'english',\n",
       " 'finnish',\n",
       " 'french',\n",
       " 'german',\n",
       " 'hungarian',\n",
       " 'italian',\n",
       " 'norwegian',\n",
       " 'porter',\n",
       " 'portuguese',\n",
       " 'romanian',\n",
       " 'russian',\n",
       " 'spanish',\n",
       " 'swedish')"
      ]
     },
     "execution_count": 32,
     "metadata": {},
     "output_type": "execute_result"
    }
   ],
   "source": [
    "from nltk.stem.snowball import SnowballStemmer\n",
    "SnowballStemmer.languages"
   ]
  },
  {
   "cell_type": "markdown",
   "metadata": {},
   "source": [
    "<span style=\"font-size:24px; font-weight: bold;\">Vector space and BOW models</span>"
   ]
  },
  {
   "cell_type": "markdown",
   "metadata": {},
   "source": [
    "17. **Use CountVectorizer() from the sklearn package and build a bag of words model on Preprocessed Lyrics based on term frequency. Check the shape of the output matrix.**"
   ]
  },
  {
   "cell_type": "code",
   "execution_count": 33,
   "metadata": {
    "colab": {
     "base_uri": "https://localhost:8080/"
    },
    "id": "3etxP4G8z9Vg",
    "outputId": "7984aa2b-7256-4e2a-de5d-8035cb6761bf"
   },
   "outputs": [
    {
     "name": "stdout",
     "output_type": "stream",
     "text": [
      "(132, 2597)\n"
     ]
    }
   ],
   "source": [
    "from sklearn.feature_extraction.text import CountVectorizer # for bag of words feature extraction\n",
    "\n",
    "# Initialize the \"CountVectorizer\" object, which is scikit-learn's bag of words tool.\n",
    "vectorizer1 = CountVectorizer(max_features = 3000)\n",
    "\n",
    "# fit_transform() does two functions: First, it fits the model and learns the vocabulary;\n",
    "# second, it transforms our data into feature vectors.\n",
    "# The input to fit_transform should be a list of strings.\n",
    "dtm = vectorizer1.fit_transform(ts_lyrics[\"Preprocessed Lyrics\"])\n",
    "print(dtm.shape)"
   ]
  },
  {
   "cell_type": "code",
   "execution_count": 34,
   "metadata": {
    "colab": {
     "base_uri": "https://localhost:8080/"
    },
    "id": "rArxfQQA0FA0",
    "outputId": "387f03d3-8d57-46f8-f24d-8a81202b3200"
   },
   "outputs": [
    {
     "data": {
      "text/plain": [
       "<132x2597 sparse matrix of type '<class 'numpy.int64'>'\n",
       "\twith 10530 stored elements in Compressed Sparse Row format>"
      ]
     },
     "execution_count": 34,
     "metadata": {},
     "output_type": "execute_result"
    }
   ],
   "source": [
    "dtm"
   ]
  },
  {
   "cell_type": "code",
   "execution_count": 35,
   "metadata": {
    "colab": {
     "base_uri": "https://localhost:8080/",
     "height": 235
    },
    "id": "CVn9Q0c80K4G",
    "outputId": "e2e91f68-cf7d-440a-e465-fe89d8c6f750"
   },
   "outputs": [
    {
     "data": {
      "text/html": [
       "<div>\n",
       "<style scoped>\n",
       "    .dataframe tbody tr th:only-of-type {\n",
       "        vertical-align: middle;\n",
       "    }\n",
       "\n",
       "    .dataframe tbody tr th {\n",
       "        vertical-align: top;\n",
       "    }\n",
       "\n",
       "    .dataframe thead th {\n",
       "        text-align: right;\n",
       "    }\n",
       "</style>\n",
       "<table border=\"1\" class=\"dataframe\">\n",
       "  <thead>\n",
       "    <tr style=\"text-align: right;\">\n",
       "      <th></th>\n",
       "      <th>0</th>\n",
       "      <th>1</th>\n",
       "      <th>2</th>\n",
       "      <th>3</th>\n",
       "      <th>4</th>\n",
       "      <th>5</th>\n",
       "      <th>6</th>\n",
       "      <th>7</th>\n",
       "      <th>8</th>\n",
       "      <th>9</th>\n",
       "      <th>...</th>\n",
       "      <th>2587</th>\n",
       "      <th>2588</th>\n",
       "      <th>2589</th>\n",
       "      <th>2590</th>\n",
       "      <th>2591</th>\n",
       "      <th>2592</th>\n",
       "      <th>2593</th>\n",
       "      <th>2594</th>\n",
       "      <th>2595</th>\n",
       "      <th>2596</th>\n",
       "    </tr>\n",
       "  </thead>\n",
       "  <tbody>\n",
       "    <tr>\n",
       "      <th>0</th>\n",
       "      <td>0</td>\n",
       "      <td>0</td>\n",
       "      <td>0</td>\n",
       "      <td>0</td>\n",
       "      <td>0</td>\n",
       "      <td>0</td>\n",
       "      <td>0</td>\n",
       "      <td>0</td>\n",
       "      <td>0</td>\n",
       "      <td>0</td>\n",
       "      <td>...</td>\n",
       "      <td>0</td>\n",
       "      <td>0</td>\n",
       "      <td>0</td>\n",
       "      <td>0</td>\n",
       "      <td>0</td>\n",
       "      <td>0</td>\n",
       "      <td>2</td>\n",
       "      <td>0</td>\n",
       "      <td>0</td>\n",
       "      <td>0</td>\n",
       "    </tr>\n",
       "    <tr>\n",
       "      <th>1</th>\n",
       "      <td>0</td>\n",
       "      <td>0</td>\n",
       "      <td>0</td>\n",
       "      <td>0</td>\n",
       "      <td>0</td>\n",
       "      <td>0</td>\n",
       "      <td>0</td>\n",
       "      <td>0</td>\n",
       "      <td>0</td>\n",
       "      <td>0</td>\n",
       "      <td>...</td>\n",
       "      <td>0</td>\n",
       "      <td>0</td>\n",
       "      <td>0</td>\n",
       "      <td>0</td>\n",
       "      <td>0</td>\n",
       "      <td>1</td>\n",
       "      <td>1</td>\n",
       "      <td>0</td>\n",
       "      <td>0</td>\n",
       "      <td>0</td>\n",
       "    </tr>\n",
       "    <tr>\n",
       "      <th>2</th>\n",
       "      <td>0</td>\n",
       "      <td>0</td>\n",
       "      <td>0</td>\n",
       "      <td>0</td>\n",
       "      <td>0</td>\n",
       "      <td>0</td>\n",
       "      <td>0</td>\n",
       "      <td>0</td>\n",
       "      <td>0</td>\n",
       "      <td>0</td>\n",
       "      <td>...</td>\n",
       "      <td>0</td>\n",
       "      <td>0</td>\n",
       "      <td>0</td>\n",
       "      <td>0</td>\n",
       "      <td>0</td>\n",
       "      <td>0</td>\n",
       "      <td>0</td>\n",
       "      <td>0</td>\n",
       "      <td>0</td>\n",
       "      <td>0</td>\n",
       "    </tr>\n",
       "    <tr>\n",
       "      <th>3</th>\n",
       "      <td>0</td>\n",
       "      <td>0</td>\n",
       "      <td>0</td>\n",
       "      <td>0</td>\n",
       "      <td>0</td>\n",
       "      <td>0</td>\n",
       "      <td>0</td>\n",
       "      <td>0</td>\n",
       "      <td>0</td>\n",
       "      <td>0</td>\n",
       "      <td>...</td>\n",
       "      <td>0</td>\n",
       "      <td>0</td>\n",
       "      <td>0</td>\n",
       "      <td>0</td>\n",
       "      <td>0</td>\n",
       "      <td>0</td>\n",
       "      <td>0</td>\n",
       "      <td>0</td>\n",
       "      <td>0</td>\n",
       "      <td>0</td>\n",
       "    </tr>\n",
       "    <tr>\n",
       "      <th>4</th>\n",
       "      <td>0</td>\n",
       "      <td>0</td>\n",
       "      <td>0</td>\n",
       "      <td>0</td>\n",
       "      <td>0</td>\n",
       "      <td>0</td>\n",
       "      <td>0</td>\n",
       "      <td>0</td>\n",
       "      <td>0</td>\n",
       "      <td>0</td>\n",
       "      <td>...</td>\n",
       "      <td>0</td>\n",
       "      <td>0</td>\n",
       "      <td>0</td>\n",
       "      <td>0</td>\n",
       "      <td>0</td>\n",
       "      <td>0</td>\n",
       "      <td>0</td>\n",
       "      <td>0</td>\n",
       "      <td>0</td>\n",
       "      <td>1</td>\n",
       "    </tr>\n",
       "  </tbody>\n",
       "</table>\n",
       "<p>5 rows × 2597 columns</p>\n",
       "</div>"
      ],
      "text/plain": [
       "   0     1     2     3     4     5     6     7     8     9     ...  2587  \\\n",
       "0     0     0     0     0     0     0     0     0     0     0  ...     0   \n",
       "1     0     0     0     0     0     0     0     0     0     0  ...     0   \n",
       "2     0     0     0     0     0     0     0     0     0     0  ...     0   \n",
       "3     0     0     0     0     0     0     0     0     0     0  ...     0   \n",
       "4     0     0     0     0     0     0     0     0     0     0  ...     0   \n",
       "\n",
       "   2588  2589  2590  2591  2592  2593  2594  2595  2596  \n",
       "0     0     0     0     0     0     2     0     0     0  \n",
       "1     0     0     0     0     1     1     0     0     0  \n",
       "2     0     0     0     0     0     0     0     0     0  \n",
       "3     0     0     0     0     0     0     0     0     0  \n",
       "4     0     0     0     0     0     0     0     0     1  \n",
       "\n",
       "[5 rows x 2597 columns]"
      ]
     },
     "execution_count": 35,
     "metadata": {},
     "output_type": "execute_result"
    }
   ],
   "source": [
    "# we can convert it to a dataframe\n",
    "dtm_df = dtm.toarray()\n",
    "dtm_df = pd.DataFrame(dtm_df)\n",
    "dtm_df.head()"
   ]
  },
  {
   "cell_type": "code",
   "execution_count": 36,
   "metadata": {
    "colab": {
     "base_uri": "https://localhost:8080/"
    },
    "id": "2wE23MsH0iyi",
    "outputId": "d7a63cda-7a90-45b8-f9ea-3ba9f5eaf86b"
   },
   "outputs": [
    {
     "name": "stdout",
     "output_type": "stream",
     "text": [
      "(132, 2597)\n"
     ]
    }
   ],
   "source": [
    "print(dtm_df.shape)"
   ]
  },
  {
   "cell_type": "markdown",
   "metadata": {},
   "source": [
    "18. **Inspect the first 100 terms in the vocabulary.**"
   ]
  },
  {
   "cell_type": "code",
   "execution_count": 37,
   "metadata": {
    "colab": {
     "base_uri": "https://localhost:8080/"
    },
    "id": "clZVFsF-04jo",
    "outputId": "7515d045-2784-495e-e1c7-2d4edc85b8e5"
   },
   "outputs": [
    {
     "name": "stdout",
     "output_type": "stream",
     "text": [
      "['16' '16th' '45' '4am' 'aah' 'abigail' 'absent' 'absurd' 'accent'\n",
      " 'accident' 'accused' 'ace' 'achilles' 'aching' 'acing' 'across' 'act'\n",
      " 'acted' 'actress' 'actually' 'add' 'adjusting' 'admit' 'adore'\n",
      " 'adventure' 'affair' 'afraid' 'afterglow' 'afternoon' 'age' 'ago' 'ah'\n",
      " 'ahah' 'ahahah' 'ahead' 'ahh' 'aim' 'aint' 'air' 'airplane' 'aisle'\n",
      " 'album' 'aligned' 'alive' 'alls' 'almost' 'alone' 'along' 'alpha'\n",
      " 'already' 'alright' 'altar' 'always' 'ambition' 'amen' 'american'\n",
      " 'americana' 'amnesia' 'amount' 'andi' 'ane' 'angel' 'angry' 'another'\n",
      " 'answer' 'anthem' 'anther' 'anticipation' 'anybody' 'anymore' 'anyone'\n",
      " 'anything' 'anyway' 'anywhere' 'apart' 'apartment' 'apology' 'applause'\n",
      " 'archer' 'architect' 'arent' 'argue' 'arm' 'armor' 'around' 'arrowhead'\n",
      " 'ash' 'aside' 'ask' 'asked' 'asking' 'asleep' 'assume' 'assumption' 'ate'\n",
      " 'ateam' 'attached' 'attack' 'attitude']\n"
     ]
    }
   ],
   "source": [
    "# Take a look at the words in the vocabulary\n",
    "vocab = vectorizer1.get_feature_names_out()\n",
    "print(vocab[1:100])"
   ]
  },
  {
   "cell_type": "markdown",
   "metadata": {},
   "source": [
    "19. **Using TfidfVectorizer(), you can create a model based on tfidf. Apply this vectorizer to your text data. Does the shape of the output matrix differ from dtm?**"
   ]
  },
  {
   "cell_type": "code",
   "execution_count": 38,
   "metadata": {
    "colab": {
     "base_uri": "https://localhost:8080/"
    },
    "id": "U988kMX01DEN",
    "outputId": "8c06ea19-58c1-4a0a-9c40-4cddc8384203"
   },
   "outputs": [
    {
     "name": "stdout",
     "output_type": "stream",
     "text": [
      "(132, 2597)\n"
     ]
    }
   ],
   "source": [
    "from sklearn.feature_extraction.text import TfidfVectorizer\n",
    "\n",
    "# Create TfidfVectorizer object\n",
    "vectorizer2 = TfidfVectorizer()\n",
    "\n",
    "# Generate matrix of word vectors\n",
    "tfidf_matrix = vectorizer2.fit_transform(ts_lyrics[\"Preprocessed Lyrics\"])\n",
    "\n",
    "# Print the shape of tfidf_matrix\n",
    "print(tfidf_matrix.shape)"
   ]
  },
  {
   "cell_type": "markdown",
   "metadata": {},
   "source": [
    "20. **Use the TfidfVectorizer() to create an n-gram based model with n = 1 and 2. Use the ngram_range argument to determine the lower and upper boundary of the range of n-values for different n-grams to be extracted. (tip: use ?TfidfVectorizer)**"
   ]
  },
  {
   "cell_type": "code",
   "execution_count": 39,
   "metadata": {
    "colab": {
     "base_uri": "https://localhost:8080/"
    },
    "id": "S8sE8h6g1N-a",
    "outputId": "4cdcff19-3758-4f53-c06b-ac867105607a"
   },
   "outputs": [
    {
     "name": "stdout",
     "output_type": "stream",
     "text": [
      "(132, 15016)\n"
     ]
    }
   ],
   "source": [
    "# Create TfidfVectorizer object\n",
    "vectorizer3 = TfidfVectorizer(ngram_range=(1, 2))\n",
    "\n",
    "# Generate matrix of word vectors\n",
    "tfidf_matrix3 = vectorizer3.fit_transform(ts_lyrics[\"Preprocessed Lyrics\"])\n",
    "\n",
    "# Print the shape of tfidf_matrix\n",
    "print(tfidf_matrix3.shape)"
   ]
  },
  {
   "cell_type": "markdown",
   "metadata": {},
   "source": [
    "21. **We want to compare the lyrics of Friends theme song with the lyrics of Taylor Swift's songs and find the most similar one. Use the string below. First, apply the pre-processing steps and then transform the text into count and tfidf vectors.\n",
    "Do the bag of words models agree on the most similar song to Friends theme song?**"
   ]
  },
  {
   "cell_type": "code",
   "execution_count": 40,
   "metadata": {
    "colab": {
     "base_uri": "https://localhost:8080/",
     "height": 72
    },
    "id": "w1yohthK1dr9",
    "outputId": "53a82477-fa14-4ba7-c1fb-0c4ee9c0117f"
   },
   "outputs": [
    {
     "data": {
      "text/plain": [
       "\"So no one told you life was going to be this way. Your job's a joke, you're broke, you're love life's DOA. It's like you're always stuck in second gear, When it hasn't been your day, your week, your month, or even your year. But, I'll be there for you, when the rain starts to pour. I'll be there for you, like I've been there before. I'll be there for you, cause you're there for me too.\""
      ]
     },
     "execution_count": 40,
     "metadata": {},
     "output_type": "execute_result"
    }
   ],
   "source": [
    "friends_theme_lyrics = \"So no one told you life was going to be this way. Your job's a joke, you're broke, you're love life's DOA. It's like you're always stuck in second gear, When it hasn\\'t been your day, your week, your month, or even your year. But, I\\'ll be there for you, when the rain starts to pour. I\\'ll be there for you, like I\\'ve been there before. I\\'ll be there for you, cause you\\'re there for me too.\"\n",
    "friends_theme_lyrics"
   ]
  },
  {
   "cell_type": "code",
   "execution_count": 41,
   "metadata": {
    "colab": {
     "base_uri": "https://localhost:8080/",
     "height": 36
    },
    "id": "JoFc0ACD1qk-",
    "outputId": "65b74fc6-9047-40c0-b7c4-1fd3ca3b7149"
   },
   "outputs": [
    {
     "data": {
      "text/plain": [
       "'one told life going way job joke broke love life doa like always stuck second gear day week month even year rain start pour like cause'"
      ]
     },
     "execution_count": 41,
     "metadata": {},
     "output_type": "execute_result"
    }
   ],
   "source": [
    "friends_theme_lyrics = remove_punctuation(friends_theme_lyrics)\n",
    "friends_theme_lyrics = friends_theme_lyrics.lower()\n",
    "friends_theme_lyrics = remove_stopwords(friends_theme_lyrics)\n",
    "friends_theme_lyrics = lemmatize_words(friends_theme_lyrics)\n",
    "friends_theme_lyrics"
   ]
  },
  {
   "cell_type": "code",
   "execution_count": 42,
   "metadata": {
    "colab": {
     "base_uri": "https://localhost:8080/"
    },
    "id": "rDXwEJT71w5F",
    "outputId": "37e1c9dc-58eb-4903-cab6-f00e668a0436"
   },
   "outputs": [
    {
     "data": {
      "text/plain": [
       "(132, 2597)"
      ]
     },
     "execution_count": 42,
     "metadata": {},
     "output_type": "execute_result"
    }
   ],
   "source": [
    "friends_theme_lyrics_tf = vectorizer1.transform([friends_theme_lyrics])\n",
    "friends_theme_lyrics_tf.shape\n",
    "dtm.shape"
   ]
  },
  {
   "cell_type": "code",
   "execution_count": 43,
   "metadata": {
    "colab": {
     "base_uri": "https://localhost:8080/"
    },
    "id": "BvitN4Df74ya",
    "outputId": "0e40f43e-9873-4ee1-83b4-c34b42538373"
   },
   "outputs": [
    {
     "data": {
      "text/plain": [
       "(1, 2597)"
      ]
     },
     "execution_count": 43,
     "metadata": {},
     "output_type": "execute_result"
    }
   ],
   "source": [
    "friends_theme_lyrics_tf.shape"
   ]
  },
  {
   "cell_type": "code",
   "execution_count": 44,
   "metadata": {
    "colab": {
     "base_uri": "https://localhost:8080/"
    },
    "id": "obyekQVJ12Jv",
    "outputId": "d218e567-98b3-438b-e75d-231510a00452"
   },
   "outputs": [
    {
     "name": "stdout",
     "output_type": "stream",
     "text": [
      "[[0.07295675]\n",
      " [0.05749499]\n",
      " [0.05668202]\n",
      " [0.099573  ]\n",
      " [0.09816136]\n",
      " [0.00975761]\n",
      " [0.16365771]\n",
      " [0.11501093]\n",
      " [0.02125256]\n",
      " [0.15038123]\n",
      " [0.07792865]\n",
      " [0.09200874]\n",
      " [0.17766726]\n",
      " [0.0360492 ]\n",
      " [0.0786839 ]\n",
      " [0.1062023 ]\n",
      " [0.23829304]\n",
      " [0.08566568]\n",
      " [0.15519271]\n",
      " [0.1352231 ]\n",
      " [0.03202563]\n",
      " [0.19158319]\n",
      " [0.09043166]\n",
      " [0.19051587]\n",
      " [0.10639904]\n",
      " [0.12562973]\n",
      " [0.13526614]\n",
      " [0.1340465 ]\n",
      " [0.10332549]\n",
      " [0.14529915]\n",
      " [0.08091962]\n",
      " [0.0428993 ]\n",
      " [0.05358677]\n",
      " [0.11510231]\n",
      " [0.03928371]\n",
      " [0.05463417]\n",
      " [0.0946985 ]\n",
      " [0.0745356 ]\n",
      " [0.24685715]\n",
      " [0.07198268]\n",
      " [0.09507654]\n",
      " [0.11511347]\n",
      " [0.11136921]\n",
      " [0.10401235]\n",
      " [0.1946593 ]\n",
      " [0.15567091]\n",
      " [0.21439196]\n",
      " [0.13088543]\n",
      " [0.11021668]\n",
      " [0.09369712]\n",
      " [0.11888042]\n",
      " [0.06581261]\n",
      " [0.00903711]\n",
      " [0.21465394]\n",
      " [0.22794562]\n",
      " [0.04007421]\n",
      " [0.06975801]\n",
      " [0.05602768]\n",
      " [0.01563873]\n",
      " [0.10146346]\n",
      " [0.13488377]\n",
      " [0.1500909 ]\n",
      " [0.0521599 ]\n",
      " [0.16455472]\n",
      " [0.20490974]\n",
      " [0.17563692]\n",
      " [0.13237606]\n",
      " [0.02857238]\n",
      " [0.03055662]\n",
      " [0.17989569]\n",
      " [0.0790393 ]\n",
      " [0.00461099]\n",
      " [0.09170196]\n",
      " [0.02086808]\n",
      " [0.03288424]\n",
      " [0.11242975]\n",
      " [0.044955  ]\n",
      " [0.02726372]\n",
      " [0.18975469]\n",
      " [0.06574775]\n",
      " [0.08736843]\n",
      " [0.07787518]\n",
      " [0.24627294]\n",
      " [0.04908068]\n",
      " [0.13145637]\n",
      " [0.05978084]\n",
      " [0.14187609]\n",
      " [0.15555556]\n",
      " [0.04961695]\n",
      " [0.05384297]\n",
      " [0.09147674]\n",
      " [0.03362627]\n",
      " [0.09035781]\n",
      " [0.05615828]\n",
      " [0.07207214]\n",
      " [0.0340633 ]\n",
      " [0.16397832]\n",
      " [0.05627802]\n",
      " [0.09116057]\n",
      " [0.06624405]\n",
      " [0.07803834]\n",
      " [0.06365683]\n",
      " [0.04996305]\n",
      " [0.09610043]\n",
      " [0.10304734]\n",
      " [0.19756782]\n",
      " [0.01443376]\n",
      " [0.1750503 ]\n",
      " [0.18845876]\n",
      " [0.05396298]\n",
      " [0.17025131]\n",
      " [0.11426298]\n",
      " [0.10506787]\n",
      " [0.22829105]\n",
      " [0.08403295]\n",
      " [0.06714701]\n",
      " [0.05614346]\n",
      " [0.13715477]\n",
      " [0.01830783]\n",
      " [0.13255879]\n",
      " [0.07392213]\n",
      " [0.08475223]\n",
      " [0.20016019]\n",
      " [0.09798273]\n",
      " [0.10425721]\n",
      " [0.07647191]\n",
      " [0.04792568]\n",
      " [0.23490916]\n",
      " [0.0564445 ]\n",
      " [0.11111111]\n",
      " [0.08512565]\n",
      " [0.05363453]]\n"
     ]
    }
   ],
   "source": [
    "from sklearn.metrics.pairwise import cosine_similarity\n",
    "\n",
    "# compute and print the cosine similarity matrix\n",
    "cosine_sim_dtm = cosine_similarity(dtm, friends_theme_lyrics_tf)\n",
    "\n",
    "print(cosine_sim_dtm)"
   ]
  },
  {
   "cell_type": "code",
   "execution_count": 45,
   "metadata": {
    "colab": {
     "base_uri": "https://localhost:8080/"
    },
    "id": "ot7ZzpHs2FqG",
    "outputId": "5f90c574-6249-40c7-85ad-36905fd0a956"
   },
   "outputs": [
    {
     "name": "stdout",
     "output_type": "stream",
     "text": [
      "[[0.24685715]]\n"
     ]
    },
    {
     "data": {
      "text/plain": [
       "array([38])"
      ]
     },
     "execution_count": 45,
     "metadata": {},
     "output_type": "execute_result"
    }
   ],
   "source": [
    "import numpy as np\n",
    "max_index = np.argmax(cosine_sim_dtm, axis=0)\n",
    "print(cosine_sim_dtm[max_index])\n",
    "max_index"
   ]
  },
  {
   "cell_type": "code",
   "execution_count": 46,
   "metadata": {
    "colab": {
     "base_uri": "https://localhost:8080/",
     "height": 81
    },
    "id": "2sXfADWD2KGz",
    "outputId": "6729bf2a-c110-458a-89f4-5d83fd97d241"
   },
   "outputs": [
    {
     "data": {
      "text/html": [
       "<div>\n",
       "<style scoped>\n",
       "    .dataframe tbody tr th:only-of-type {\n",
       "        vertical-align: middle;\n",
       "    }\n",
       "\n",
       "    .dataframe tbody tr th {\n",
       "        vertical-align: top;\n",
       "    }\n",
       "\n",
       "    .dataframe thead th {\n",
       "        text-align: right;\n",
       "    }\n",
       "</style>\n",
       "<table border=\"1\" class=\"dataframe\">\n",
       "  <thead>\n",
       "    <tr style=\"text-align: right;\">\n",
       "      <th></th>\n",
       "      <th>Artist</th>\n",
       "      <th>Album</th>\n",
       "      <th>Title</th>\n",
       "      <th>Lyrics</th>\n",
       "      <th>Preprocessed Lyrics</th>\n",
       "    </tr>\n",
       "  </thead>\n",
       "  <tbody>\n",
       "    <tr>\n",
       "      <th>38</th>\n",
       "      <td>Taylor Swift</td>\n",
       "      <td>Speak Now</td>\n",
       "      <td>The Story of Us</td>\n",
       "      <td>I used to think one day we'd tell the story of...</td>\n",
       "      <td>used think one day wed tell story u met spark ...</td>\n",
       "    </tr>\n",
       "  </tbody>\n",
       "</table>\n",
       "</div>"
      ],
      "text/plain": [
       "          Artist        Album            Title   \\\n",
       "38  Taylor Swift   Speak Now   The Story of Us    \n",
       "\n",
       "                                               Lyrics  \\\n",
       "38  I used to think one day we'd tell the story of...   \n",
       "\n",
       "                                  Preprocessed Lyrics  \n",
       "38  used think one day wed tell story u met spark ...  "
      ]
     },
     "execution_count": 46,
     "metadata": {},
     "output_type": "execute_result"
    }
   ],
   "source": [
    "ts_lyrics.iloc[max_index]"
   ]
  },
  {
   "cell_type": "code",
   "execution_count": 47,
   "metadata": {
    "colab": {
     "base_uri": "https://localhost:8080/",
     "height": 127
    },
    "id": "2rUJFpHU2S28",
    "outputId": "747dced9-5d76-4b9a-b781-5aec2b1c147a"
   },
   "outputs": [
    {
     "data": {
      "text/plain": [
       "'used think one day wed tell story u met spark flew instantly people would say theyre lucky one used know place spot next searching room empty seat cause lately even know page oh simple complication miscommunications lead fall many thing wish knew many wall break standing alone crowded room speaking dying know killing like killing yeah know say since twist fate broke story u look lot like tragedy next chapter howd end way see nervously pulling clothes trying look busy best avoid starting think one day tell story u losing mind saw held pride like held oh scared see ending pretending nothing tell miss know never heard silence quite loud standing alone crowded room speaking dying know killing like killing yeah know say since twist fate broke story u look lot like tragedy looking like contest act like care less liked better side battle hand would lay armor youd say youd rather love fight many thing wish knew story u might ending soon standing alone crowded room speaking dying know killing like killing yeah know say since twist fate broke story u look lot like tragedy end'"
      ]
     },
     "execution_count": 47,
     "metadata": {},
     "output_type": "execute_result"
    }
   ],
   "source": [
    "ts_lyrics[\"Preprocessed Lyrics\"].iloc[38]"
   ]
  },
  {
   "cell_type": "markdown",
   "metadata": {},
   "source": [
    "## Now you can apply other data set and try the previous steps"
   ]
  },
  {
   "cell_type": "code",
   "execution_count": 48,
   "metadata": {
    "colab": {
     "base_uri": "https://localhost:8080/"
    },
    "id": "QuotkVi02XCh",
    "outputId": "e774ba85-5497-4c4d-9821-8ce557adaf9f"
   },
   "outputs": [
    {
     "name": "stdout",
     "output_type": "stream",
     "text": [
      "(1, 15016)\n",
      "(132, 15016)\n",
      "[[0.02369657]\n",
      " [0.01318075]\n",
      " [0.01128244]\n",
      " [0.03986478]\n",
      " [0.03108815]\n",
      " [0.00181568]\n",
      " [0.02572803]\n",
      " [0.02691028]\n",
      " [0.00512609]\n",
      " [0.04532813]\n",
      " [0.01615807]\n",
      " [0.00787449]\n",
      " [0.03826574]\n",
      " [0.0068687 ]\n",
      " [0.01320367]\n",
      " [0.01245819]\n",
      " [0.09768082]\n",
      " [0.03284433]\n",
      " [0.01891928]\n",
      " [0.05104409]\n",
      " [0.00801751]\n",
      " [0.045455  ]\n",
      " [0.02005361]\n",
      " [0.04590047]\n",
      " [0.0319897 ]\n",
      " [0.01850863]\n",
      " [0.02299573]\n",
      " [0.0238499 ]\n",
      " [0.01617267]\n",
      " [0.03525199]\n",
      " [0.02914826]\n",
      " [0.01417113]\n",
      " [0.01017535]\n",
      " [0.02329621]\n",
      " [0.01165122]\n",
      " [0.00883778]\n",
      " [0.0213434 ]\n",
      " [0.01468301]\n",
      " [0.052752  ]\n",
      " [0.01398688]\n",
      " [0.02316361]\n",
      " [0.02104993]\n",
      " [0.03310764]\n",
      " [0.01013489]\n",
      " [0.04137598]\n",
      " [0.04265813]\n",
      " [0.04249053]\n",
      " [0.03391019]\n",
      " [0.02922056]\n",
      " [0.01882679]\n",
      " [0.01167784]\n",
      " [0.01196412]\n",
      " [0.00448242]\n",
      " [0.03975051]\n",
      " [0.02942139]\n",
      " [0.02500672]\n",
      " [0.0149794 ]\n",
      " [0.01541409]\n",
      " [0.00149821]\n",
      " [0.01839457]\n",
      " [0.03851785]\n",
      " [0.02703587]\n",
      " [0.01044214]\n",
      " [0.01812665]\n",
      " [0.04455981]\n",
      " [0.03015706]\n",
      " [0.03756264]\n",
      " [0.00366365]\n",
      " [0.00325763]\n",
      " [0.0333111 ]\n",
      " [0.01114174]\n",
      " [0.00036564]\n",
      " [0.03036674]\n",
      " [0.00187995]\n",
      " [0.00755594]\n",
      " [0.01588253]\n",
      " [0.01206606]\n",
      " [0.02056343]\n",
      " [0.07499416]\n",
      " [0.01513767]\n",
      " [0.03379185]\n",
      " [0.01961567]\n",
      " [0.04624439]\n",
      " [0.00618851]\n",
      " [0.02567295]\n",
      " [0.01120954]\n",
      " [0.04119311]\n",
      " [0.01641921]\n",
      " [0.00560346]\n",
      " [0.00851409]\n",
      " [0.02050939]\n",
      " [0.0099525 ]\n",
      " [0.01615719]\n",
      " [0.00906767]\n",
      " [0.00936747]\n",
      " [0.01777334]\n",
      " [0.02409146]\n",
      " [0.02385133]\n",
      " [0.03111177]\n",
      " [0.01181365]\n",
      " [0.04510753]\n",
      " [0.0069002 ]\n",
      " [0.0124372 ]\n",
      " [0.00991338]\n",
      " [0.01700991]\n",
      " [0.0369523 ]\n",
      " [0.00665362]\n",
      " [0.02971692]\n",
      " [0.02632021]\n",
      " [0.01001789]\n",
      " [0.02780341]\n",
      " [0.01487108]\n",
      " [0.01907687]\n",
      " [0.03361355]\n",
      " [0.00807426]\n",
      " [0.00985324]\n",
      " [0.01145457]\n",
      " [0.01459391]\n",
      " [0.00972955]\n",
      " [0.03375572]\n",
      " [0.01890663]\n",
      " [0.01118828]\n",
      " [0.02691614]\n",
      " [0.01158261]\n",
      " [0.03914842]\n",
      " [0.01562798]\n",
      " [0.01257735]\n",
      " [0.02771936]\n",
      " [0.0127158 ]\n",
      " [0.03262289]\n",
      " [0.02177201]\n",
      " [0.00782077]]\n"
     ]
    }
   ],
   "source": [
    "friends_theme_lyrics_tfidf = vectorizer3.transform([friends_theme_lyrics])\n",
    "print(friends_theme_lyrics_tfidf.shape)\n",
    "print(tfidf_matrix3.shape)\n",
    "# compute and print the cosine similarity matrix\n",
    "cosine_sim_tfidf = cosine_similarity(tfidf_matrix3, friends_theme_lyrics_tfidf)\n",
    "\n",
    "print(cosine_sim_tfidf)"
   ]
  },
  {
   "cell_type": "code",
   "execution_count": 49,
   "metadata": {
    "colab": {
     "base_uri": "https://localhost:8080/"
    },
    "id": "SsWzXFws2cf_",
    "outputId": "2ee85c11-343d-46fc-a29c-cac0aa28e350"
   },
   "outputs": [
    {
     "name": "stdout",
     "output_type": "stream",
     "text": [
      "[[0.09768082]]\n"
     ]
    },
    {
     "data": {
      "text/plain": [
       "array([16])"
      ]
     },
     "execution_count": 49,
     "metadata": {},
     "output_type": "execute_result"
    }
   ],
   "source": [
    "max_index = np.argmax(cosine_sim_tfidf, axis=0)\n",
    "print(cosine_sim_tfidf[max_index])\n",
    "max_index"
   ]
  },
  {
   "cell_type": "code",
   "execution_count": 50,
   "metadata": {
    "colab": {
     "base_uri": "https://localhost:8080/",
     "height": 81
    },
    "id": "YBVPqV-42izi",
    "outputId": "6f43f698-ee20-4453-c617-d0e879e761fb"
   },
   "outputs": [
    {
     "data": {
      "text/html": [
       "<div>\n",
       "<style scoped>\n",
       "    .dataframe tbody tr th:only-of-type {\n",
       "        vertical-align: middle;\n",
       "    }\n",
       "\n",
       "    .dataframe tbody tr th {\n",
       "        vertical-align: top;\n",
       "    }\n",
       "\n",
       "    .dataframe thead th {\n",
       "        text-align: right;\n",
       "    }\n",
       "</style>\n",
       "<table border=\"1\" class=\"dataframe\">\n",
       "  <thead>\n",
       "    <tr style=\"text-align: right;\">\n",
       "      <th></th>\n",
       "      <th>Artist</th>\n",
       "      <th>Album</th>\n",
       "      <th>Title</th>\n",
       "      <th>Lyrics</th>\n",
       "      <th>Preprocessed Lyrics</th>\n",
       "    </tr>\n",
       "  </thead>\n",
       "  <tbody>\n",
       "    <tr>\n",
       "      <th>16</th>\n",
       "      <td>Taylor Swift</td>\n",
       "      <td>Fearless</td>\n",
       "      <td>Forever &amp; Always</td>\n",
       "      <td>Once upon a time, I believe it was a Tuesday w...</td>\n",
       "      <td>upon time believe tuesday caught eye caught on...</td>\n",
       "    </tr>\n",
       "  </tbody>\n",
       "</table>\n",
       "</div>"
      ],
      "text/plain": [
       "          Artist      Album             Title   \\\n",
       "16  Taylor Swift   Fearless  Forever & Always    \n",
       "\n",
       "                                               Lyrics  \\\n",
       "16  Once upon a time, I believe it was a Tuesday w...   \n",
       "\n",
       "                                  Preprocessed Lyrics  \n",
       "16  upon time believe tuesday caught eye caught on...  "
      ]
     },
     "execution_count": 50,
     "metadata": {},
     "output_type": "execute_result"
    }
   ],
   "source": [
    "ts_lyrics.iloc[max_index]"
   ]
  },
  {
   "cell_type": "code",
   "execution_count": 51,
   "metadata": {
    "colab": {
     "base_uri": "https://localhost:8080/",
     "height": 127
    },
    "id": "tLsV3m6F2n_1",
    "outputId": "d0b2ceb9-6875-4279-f0aa-086b2a7c57fa"
   },
   "outputs": [
    {
     "data": {
      "text/plain": [
       "'upon time believe tuesday caught eye caught onto something hold onto night looked eye told loved kidding cause seems thing breaking almost never speak feel welcome anymore baby happened please tell cause one second perfect halfway door stare phone still called feel low feel nothing flashback said forever always oh rain bedroom everything wrong rain rain gone cause said forever always line say something way honest made run hide like scared little boy looked eye thought knew minute sure here everything coming nothing here silence cut core going thought knew minute anymore stare phone still called feel low feel nothing flashback said forever always oh rain bedroom everything wrong rain rain gone cause said forever always mean baby think oh back baby back forget everything back baby back forget everything cause rain bedroom everything wrong rain rain gone cause said forever always oh stare phone still called feel low feel nothing flashback said forever always rain bedroom everything wrong rain rain gone cause said forever always mean baby said forever always yeah'"
      ]
     },
     "execution_count": 51,
     "metadata": {},
     "output_type": "execute_result"
    }
   ],
   "source": [
    "ts_lyrics[\"Preprocessed Lyrics\"].iloc[16]"
   ]
  },
  {
   "cell_type": "code",
   "execution_count": 52,
   "metadata": {
    "colab": {
     "base_uri": "https://localhost:8080/",
     "height": 206
    },
    "id": "9c56w3v6jEJ6",
    "outputId": "94eaca6e-cfa8-47ef-ed0e-05a1c60a8bf3"
   },
   "outputs": [
    {
     "data": {
      "text/html": [
       "<div>\n",
       "<style scoped>\n",
       "    .dataframe tbody tr th:only-of-type {\n",
       "        vertical-align: middle;\n",
       "    }\n",
       "\n",
       "    .dataframe tbody tr th {\n",
       "        vertical-align: top;\n",
       "    }\n",
       "\n",
       "    .dataframe thead th {\n",
       "        text-align: right;\n",
       "    }\n",
       "</style>\n",
       "<table border=\"1\" class=\"dataframe\">\n",
       "  <thead>\n",
       "    <tr style=\"text-align: right;\">\n",
       "      <th></th>\n",
       "      <th>rating_no</th>\n",
       "      <th>Unnamed: 1</th>\n",
       "      <th>id</th>\n",
       "      <th>age_category</th>\n",
       "      <th>book_genre</th>\n",
       "      <th>rating_no.1</th>\n",
       "      <th>tokenised_text</th>\n",
       "      <th>n_tokens</th>\n",
       "    </tr>\n",
       "  </thead>\n",
       "  <tbody>\n",
       "    <tr>\n",
       "      <th>0</th>\n",
       "      <td>1.0</td>\n",
       "      <td>284434</td>\n",
       "      <td>review_244526687</td>\n",
       "      <td>Adult</td>\n",
       "      <td>Popular fiction - general</td>\n",
       "      <td>1.0</td>\n",
       "      <td>like adult book concept simply ya spoiler exam...</td>\n",
       "      <td>30</td>\n",
       "    </tr>\n",
       "    <tr>\n",
       "      <th>1</th>\n",
       "      <td>1.0</td>\n",
       "      <td>30788</td>\n",
       "      <td>review_528067373</td>\n",
       "      <td>Adult</td>\n",
       "      <td>Literary fiction</td>\n",
       "      <td>1.0</td>\n",
       "      <td>okay read college maybe little biased rating l...</td>\n",
       "      <td>21</td>\n",
       "    </tr>\n",
       "    <tr>\n",
       "      <th>2</th>\n",
       "      <td>1.0</td>\n",
       "      <td>84989</td>\n",
       "      <td>review_3210428778</td>\n",
       "      <td>Adult</td>\n",
       "      <td>Literary fiction</td>\n",
       "      <td>1.0</td>\n",
       "      <td>remember read book club hating probably chance...</td>\n",
       "      <td>18</td>\n",
       "    </tr>\n",
       "    <tr>\n",
       "      <th>3</th>\n",
       "      <td>1.0</td>\n",
       "      <td>61511</td>\n",
       "      <td>review_112612281</td>\n",
       "      <td>Adult</td>\n",
       "      <td>Literary fiction</td>\n",
       "      <td>1.0</td>\n",
       "      <td>yeah star cause know like make like plus depre...</td>\n",
       "      <td>13</td>\n",
       "    </tr>\n",
       "    <tr>\n",
       "      <th>4</th>\n",
       "      <td>1.0</td>\n",
       "      <td>112948</td>\n",
       "      <td>review_380001099</td>\n",
       "      <td>Adult</td>\n",
       "      <td>Literary fiction</td>\n",
       "      <td>1.0</td>\n",
       "      <td>assign book brit lit class read email teacher ...</td>\n",
       "      <td>22</td>\n",
       "    </tr>\n",
       "  </tbody>\n",
       "</table>\n",
       "</div>"
      ],
      "text/plain": [
       "   rating_no  Unnamed: 1                 id age_category  \\\n",
       "0        1.0      284434   review_244526687        Adult   \n",
       "1        1.0       30788   review_528067373        Adult   \n",
       "2        1.0       84989  review_3210428778        Adult   \n",
       "3        1.0       61511   review_112612281        Adult   \n",
       "4        1.0      112948   review_380001099        Adult   \n",
       "\n",
       "                  book_genre  rating_no.1  \\\n",
       "0  Popular fiction - general          1.0   \n",
       "1           Literary fiction          1.0   \n",
       "2           Literary fiction          1.0   \n",
       "3           Literary fiction          1.0   \n",
       "4           Literary fiction          1.0   \n",
       "\n",
       "                                      tokenised_text  n_tokens  \n",
       "0  like adult book concept simply ya spoiler exam...        30  \n",
       "1  okay read college maybe little biased rating l...        21  \n",
       "2  remember read book club hating probably chance...        18  \n",
       "3  yeah star cause know like make like plus depre...        13  \n",
       "4  assign book brit lit class read email teacher ...        22  "
      ]
     },
     "execution_count": 52,
     "metadata": {},
     "output_type": "execute_result"
    }
   ],
   "source": [
    "import pandas as pd\n",
    "data = pd.read_csv('book_reviews.csv')\n",
    "# print the first five rows of the dataframe\n",
    "data.head()"
   ]
  },
  {
   "cell_type": "code",
   "execution_count": 53,
   "metadata": {
    "id": "MZU3T9G_jOrB"
   },
   "outputs": [],
   "source": [
    "from sklearn.feature_extraction.text import CountVectorizer\n",
    "vectorizer = CountVectorizer()\n",
    "#vectorizer = CountVectorizer(ngram_range=(1,2))\n",
    "X = vectorizer.fit_transform(data['tokenised_text'])\n",
    "y = data['book_genre']"
   ]
  },
  {
   "cell_type": "code",
   "execution_count": 54,
   "metadata": {
    "colab": {
     "base_uri": "https://localhost:8080/"
    },
    "id": "SwBGGly0jXkH",
    "outputId": "fa6bee27-0740-4cc1-c706-19b9cde302ff"
   },
   "outputs": [
    {
     "name": "stdout",
     "output_type": "stream",
     "text": [
      "0       Popular fiction - general\n",
      "1                Literary fiction\n",
      "2                Literary fiction\n",
      "3                Literary fiction\n",
      "4                Literary fiction\n",
      "                  ...            \n",
      "9995             Literary fiction\n",
      "9996    Popular fiction - general\n",
      "9997    Popular fiction - general\n",
      "9998                  Non fiction\n",
      "9999                  Non fiction\n",
      "Name: book_genre, Length: 10000, dtype: object\n"
     ]
    }
   ],
   "source": [
    "print(y)"
   ]
  },
  {
   "cell_type": "code",
   "execution_count": 55,
   "metadata": {
    "colab": {
     "base_uri": "https://localhost:8080/"
    },
    "id": "Bsr36ue2j-k9",
    "outputId": "4701bdc9-cbdb-42fe-f49b-d63dc57d6ee8"
   },
   "outputs": [
    {
     "name": "stdout",
     "output_type": "stream",
     "text": [
      "['aa' 'aaaaaaa' 'aaaaaaaahhhhh' 'aaaaah' 'aaaaand' 'aaaahhhhh' 'aaack'\n",
      " 'aaah' 'aaarrrgggh' 'aagggh' 'aaj' 'ab' 'aback' 'abacus' 'abandon'\n",
      " 'abandone' 'abandoned' 'abandonment' 'abasement' 'abasment']\n"
     ]
    }
   ],
   "source": [
    "words = vectorizer.get_feature_names_out()\n",
    "print(words[:20])"
   ]
  },
  {
   "cell_type": "code",
   "execution_count": 56,
   "metadata": {
    "id": "lyzLJfJGkP1t"
   },
   "outputs": [],
   "source": [
    "from sklearn.feature_extraction.text import TfidfVectorizer\n",
    "vectorizer = TfidfVectorizer()\n",
    "X = vectorizer.fit_transform(data['tokenised_text'])\n",
    "y = data['book_genre']"
   ]
  },
  {
   "cell_type": "code",
   "execution_count": 57,
   "metadata": {
    "colab": {
     "base_uri": "https://localhost:8080/"
    },
    "id": "GpCEWu53kSyc",
    "outputId": "b96fb330-efbf-4aa3-a004-ee0e0e14278e"
   },
   "outputs": [
    {
     "name": "stdout",
     "output_type": "stream",
     "text": [
      "0       Popular fiction - general\n",
      "1                Literary fiction\n",
      "2                Literary fiction\n",
      "3                Literary fiction\n",
      "4                Literary fiction\n",
      "                  ...            \n",
      "9995             Literary fiction\n",
      "9996    Popular fiction - general\n",
      "9997    Popular fiction - general\n",
      "9998                  Non fiction\n",
      "9999                  Non fiction\n",
      "Name: book_genre, Length: 10000, dtype: object\n"
     ]
    }
   ],
   "source": [
    "print(y)"
   ]
  },
  {
   "cell_type": "code",
   "execution_count": 58,
   "metadata": {
    "colab": {
     "base_uri": "https://localhost:8080/"
    },
    "id": "L5T00I19kiB5",
    "outputId": "8a313085-18d9-4d43-afd0-3cc5183f0a58"
   },
   "outputs": [
    {
     "data": {
      "text/plain": [
       "0.4991"
      ]
     },
     "execution_count": 58,
     "metadata": {},
     "output_type": "execute_result"
    }
   ],
   "source": [
    "from sklearn.dummy import DummyClassifier\n",
    "\n",
    "dummy_clf = DummyClassifier(strategy=\"most_frequent\")\n",
    "dummy_clf.fit(X, y)\n",
    "dummy_clf.score(X, y)"
   ]
  },
  {
   "cell_type": "code",
   "execution_count": 59,
   "metadata": {
    "colab": {
     "base_uri": "https://localhost:8080/"
    },
    "id": "a-2iYdoPm3dv",
    "outputId": "865addce-8edf-46c8-c24f-0a2f09dabc62"
   },
   "outputs": [
    {
     "data": {
      "text/plain": [
       "book_genre\n",
       "Literary fiction                   4991\n",
       "Popular fiction - fantasy          2037\n",
       "Popular fiction - crime/mystery     951\n",
       "Popular fiction - historical        901\n",
       "Popular fiction - general           811\n",
       "Non fiction                         187\n",
       "Picturebook                          73\n",
       "Popular fiction                      23\n",
       "Popular fiction - biography          15\n",
       "Folktales                             7\n",
       "Popular fiction                       4\n",
       "Name: count, dtype: int64"
      ]
     },
     "execution_count": 59,
     "metadata": {},
     "output_type": "execute_result"
    }
   ],
   "source": [
    "y.value_counts()"
   ]
  },
  {
   "cell_type": "code",
   "execution_count": 60,
   "metadata": {
    "id": "5GCjXxEwlmKU"
   },
   "outputs": [],
   "source": [
    "from sklearn.model_selection import train_test_split\n",
    "X_train, X_test, y_train, y_test = train_test_split(X, y, test_size=0.33, random_state=42)"
   ]
  },
  {
   "cell_type": "code",
   "execution_count": 61,
   "metadata": {
    "colab": {
     "base_uri": "https://localhost:8080/"
    },
    "id": "ZVrNK56Fl56Y",
    "outputId": "312f2cfc-f6d2-405b-90e2-df62d2a1fe80"
   },
   "outputs": [
    {
     "name": "stdout",
     "output_type": "stream",
     "text": [
      "accuracy with 3 neighbours: 0.5806060606060606 accuracy with 5 neighbours: 0.6103030303030303 \n",
      "accuracy with 10 neighbours: 0.6466666666666666 \n",
      "accuracy with 100 neighbours: 0.6378787878787879\n"
     ]
    }
   ],
   "source": [
    "import numpy as np\n",
    "np.random.seed(42)\n",
    "\n",
    "from sklearn.neighbors import KNeighborsClassifier\n",
    "knn = KNeighborsClassifier(n_neighbors=3)\n",
    "model = knn.fit(X_train, y_train)\n",
    "\n",
    "knn = KNeighborsClassifier(n_neighbors=5)\n",
    "model5 = knn.fit(X_train, y_train)\n",
    "\n",
    "knn = KNeighborsClassifier(n_neighbors=10)\n",
    "model2 = knn.fit(X_train, y_train)\n",
    "\n",
    "knn = KNeighborsClassifier(n_neighbors=100)\n",
    "model3 = knn.fit(X_train, y_train)\n",
    "print('accuracy with 3 neighbours:', model.score(X_test, y_test),\n",
    "      'accuracy with 5 neighbours:' , model5.score(X_test, y_test),\n",
    "      '\\naccuracy with 10 neighbours:', model2.score(X_test, y_test),\n",
    "      '\\naccuracy with 100 neighbours:', model3.score(X_test, y_test))"
   ]
  },
  {
   "cell_type": "code",
   "execution_count": 62,
   "metadata": {
    "colab": {
     "base_uri": "https://localhost:8080/"
    },
    "id": "kD7vYuLhnjJ5",
    "outputId": "861e6970-3857-40ad-fc6f-e425794dbfb1"
   },
   "outputs": [
    {
     "name": "stdout",
     "output_type": "stream",
     "text": [
      "accuracy with alpha=1: 0.5163636363636364 \n",
      "accuracy with alpha=10: 0.5051515151515151\n"
     ]
    }
   ],
   "source": [
    "from sklearn.naive_bayes import MultinomialNB\n",
    "nb = MultinomialNB(alpha=1)\n",
    "model = nb.fit(X_train, y_train)\n",
    "\n",
    "nb = MultinomialNB(alpha=10)\n",
    "model2 = nb.fit(X_train, y_train)\n",
    "print('accuracy with alpha=1:', model.score(X_test, y_test),\n",
    "      '\\naccuracy with alpha=10:', model2.score(X_test, y_test))"
   ]
  },
  {
   "cell_type": "code",
   "execution_count": 63,
   "metadata": {
    "colab": {
     "base_uri": "https://localhost:8080/"
    },
    "id": "pvIs0i1ap89w",
    "outputId": "07bd3bce-f87e-49be-c253-23cc9d80e7f4"
   },
   "outputs": [
    {
     "name": "stdout",
     "output_type": "stream",
     "text": [
      "accuracy with default regularization: 0.7145454545454546 \n",
      "accuracy with more regularization: 0.6809090909090909\n"
     ]
    }
   ],
   "source": [
    "from sklearn.svm import LinearSVC\n",
    "svm = LinearSVC(C=1.0)\n",
    "model = svm.fit(X_train, y_train)\n",
    "\n",
    "svm = LinearSVC(C=0.1)\n",
    "model2 = svm.fit(X_train, y_train)\n",
    "print('accuracy with default regularization:', model.score(X_test, y_test),\n",
    "      '\\naccuracy with more regularization:', model2.score(X_test, y_test))"
   ]
  },
  {
   "cell_type": "code",
   "execution_count": 64,
   "metadata": {
    "colab": {
     "base_uri": "https://localhost:8080/"
    },
    "id": "8-rKYdTiqJlZ",
    "outputId": "869e8fdd-bd01-4688-8340-101d3f0ce52e"
   },
   "outputs": [
    {
     "name": "stdout",
     "output_type": "stream",
     "text": [
      "accuracy with maximum tree depth 5: 0.5896969696969697 \n",
      "accuracy with unlimited tree depth: 0.5281818181818182\n"
     ]
    }
   ],
   "source": [
    "from sklearn.tree import DecisionTreeClassifier\n",
    "tree = DecisionTreeClassifier(max_depth=5)\n",
    "model = tree.fit(X_train, y_train)\n",
    "\n",
    "tree = DecisionTreeClassifier(max_depth=None)\n",
    "model2 = tree.fit(X_train, y_train)\n",
    "print('accuracy with maximum tree depth 5:', model.score(X_test, y_test),\n",
    "      '\\naccuracy with unlimited tree depth:', model2.score(X_test, y_test))"
   ]
  },
  {
   "cell_type": "code",
   "execution_count": 65,
   "metadata": {
    "colab": {
     "base_uri": "https://localhost:8080/"
    },
    "id": "09qAyO8-qerh",
    "outputId": "be3e1b6b-94ec-4ce4-e1bb-611ff1140341"
   },
   "outputs": [
    {
     "name": "stdout",
     "output_type": "stream",
     "text": [
      "accuracy with 3 trees: 0.5384848484848485 \n",
      "accuracy with 20 trees: 0.6236363636363637\n"
     ]
    }
   ],
   "source": [
    "from sklearn.ensemble import RandomForestClassifier\n",
    "rfc = RandomForestClassifier(n_estimators=3)\n",
    "model = rfc.fit(X_train, y_train)\n",
    "\n",
    "rfc = RandomForestClassifier(n_estimators=20)\n",
    "model2 = rfc.fit(X_train, y_train)\n",
    "print('accuracy with 3 trees:', model.score(X_test, y_test),\n",
    "      '\\naccuracy with 20 trees:', model2.score(X_test, y_test))"
   ]
  },
  {
   "cell_type": "code",
   "execution_count": 66,
   "metadata": {
    "colab": {
     "background_save": true,
     "base_uri": "https://localhost:8080/"
    },
    "id": "6mNNhGq8qm4D",
    "outputId": "4084400d-442a-4113-f566-665cd3c7021e"
   },
   "outputs": [
    {
     "name": "stderr",
     "output_type": "stream",
     "text": [
      "/opt/conda/lib/python3.11/site-packages/sklearn/model_selection/_split.py:811: UserWarning: The least populated class in y has only 1 members, which is less than n_splits=5.\n",
      "  warnings.warn(\n"
     ]
    },
    {
     "name": "stdout",
     "output_type": "stream",
     "text": [
      "0.656969696969697\n"
     ]
    },
    {
     "data": {
      "text/plain": [
       "{'cv': None,\n",
       " 'error_score': nan,\n",
       " 'estimator__algorithm': 'auto',\n",
       " 'estimator__leaf_size': 30,\n",
       " 'estimator__metric': 'minkowski',\n",
       " 'estimator__metric_params': None,\n",
       " 'estimator__n_jobs': None,\n",
       " 'estimator__n_neighbors': 5,\n",
       " 'estimator__p': 2,\n",
       " 'estimator__weights': 'uniform',\n",
       " 'estimator': KNeighborsClassifier(),\n",
       " 'n_jobs': None,\n",
       " 'param_grid': {'n_neighbors': [2, 20]},\n",
       " 'pre_dispatch': '2*n_jobs',\n",
       " 'refit': True,\n",
       " 'return_train_score': False,\n",
       " 'scoring': None,\n",
       " 'verbose': 0}"
      ]
     },
     "execution_count": 66,
     "metadata": {},
     "output_type": "execute_result"
    }
   ],
   "source": [
    "from sklearn.model_selection import GridSearchCV\n",
    "# set the search space for grid search. In this case, between 2 and 20 nearest neighbors\n",
    "parameters = {'n_neighbors': [2,20]}\n",
    "knn = KNeighborsClassifier()\n",
    "search = GridSearchCV(knn, parameters)\n",
    "search.fit(X_train, y_train)\n",
    "# the best score achieved\n",
    "print(search.score(X_test, y_test))\n",
    "# get_params() gives the parameters leading to this best score (in 'estimator')\n",
    "search.get_params()"
   ]
  },
  {
   "cell_type": "code",
   "execution_count": 67,
   "metadata": {
    "colab": {
     "base_uri": "https://localhost:8080/"
    },
    "id": "O7ZDwwwf0zcU",
    "outputId": "43fa0186-1dc8-4d27-9c31-6090257c152a"
   },
   "outputs": [
    {
     "data": {
      "text/plain": [
       "{'n_neighbors': 20}"
      ]
     },
     "execution_count": 67,
     "metadata": {},
     "output_type": "execute_result"
    }
   ],
   "source": [
    "search.best_params_"
   ]
  },
  {
   "cell_type": "code",
   "execution_count": 68,
   "metadata": {
    "colab": {
     "base_uri": "https://localhost:8080/"
    },
    "id": "Sr1QsOBcranv",
    "outputId": "205667d2-5f91-417a-a1d3-40b08ed328a9"
   },
   "outputs": [
    {
     "data": {
      "text/plain": [
       "0.6196969696969697"
      ]
     },
     "execution_count": 68,
     "metadata": {},
     "output_type": "execute_result"
    }
   ],
   "source": [
    "from sklearn.ensemble import VotingClassifier\n",
    "\n",
    "vc = VotingClassifier(estimators=[('knn', knn), ('nb', nb), ('svm', svm), ('tree', tree)])\n",
    "vc.fit(X_train, y_train)\n",
    "vc.score(X_test, y_test)"
   ]
  },
  {
   "cell_type": "code",
   "execution_count": null,
   "metadata": {},
   "outputs": [],
   "source": []
  }
 ],
 "metadata": {
  "colab": {
   "provenance": []
  },
  "kernelspec": {
   "display_name": "Python 3 (ipykernel)",
   "language": "python",
   "name": "python3"
  },
  "language_info": {
   "codemirror_mode": {
    "name": "ipython",
    "version": 3
   },
   "file_extension": ".py",
   "mimetype": "text/x-python",
   "name": "python",
   "nbconvert_exporter": "python",
   "pygments_lexer": "ipython3",
   "version": "3.11.9"
  }
 },
 "nbformat": 4,
 "nbformat_minor": 4
}
